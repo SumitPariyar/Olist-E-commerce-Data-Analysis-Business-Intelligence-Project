{
 "cells": [
  {
   "cell_type": "code",
   "execution_count": 2,
   "id": "7d62dfae-8e21-412e-8f51-7640f975970c",
   "metadata": {},
   "outputs": [],
   "source": [
    "import numpy as np\n",
    "import pandas as pd"
   ]
  },
  {
   "cell_type": "code",
   "execution_count": 16,
   "id": "862df392-a413-45ba-b744-45add44f68bb",
   "metadata": {},
   "outputs": [],
   "source": [
    "order_reviews = pd.read_csv('Final_Order_reviews.csv')"
   ]
  },
  {
   "cell_type": "code",
   "execution_count": 17,
   "id": "33d7689b-973e-4778-9cb3-5933ba72f83b",
   "metadata": {},
   "outputs": [
    {
     "data": {
      "text/plain": [
       "Unnamed: 0      0\n",
       "review_id       0\n",
       "order_id        0\n",
       "review_score    0\n",
       "dtype: int64"
      ]
     },
     "execution_count": 17,
     "metadata": {},
     "output_type": "execute_result"
    }
   ],
   "source": [
    "order_reviews.isnull().sum()"
   ]
  },
  {
   "cell_type": "code",
   "execution_count": 18,
   "id": "d8adb04a-a601-4922-bac9-f74cb0697a9e",
   "metadata": {},
   "outputs": [
    {
     "data": {
      "text/html": [
       "<div>\n",
       "<style scoped>\n",
       "    .dataframe tbody tr th:only-of-type {\n",
       "        vertical-align: middle;\n",
       "    }\n",
       "\n",
       "    .dataframe tbody tr th {\n",
       "        vertical-align: top;\n",
       "    }\n",
       "\n",
       "    .dataframe thead th {\n",
       "        text-align: right;\n",
       "    }\n",
       "</style>\n",
       "<table border=\"1\" class=\"dataframe\">\n",
       "  <thead>\n",
       "    <tr style=\"text-align: right;\">\n",
       "      <th></th>\n",
       "      <th>Unnamed: 0</th>\n",
       "      <th>review_id</th>\n",
       "      <th>order_id</th>\n",
       "      <th>review_score</th>\n",
       "    </tr>\n",
       "  </thead>\n",
       "  <tbody>\n",
       "    <tr>\n",
       "      <th>0</th>\n",
       "      <td>0</td>\n",
       "      <td>7bc2406110b926393aa56f80a40eba40</td>\n",
       "      <td>73fc7af87114b39712e6da79b0a377eb</td>\n",
       "      <td>4</td>\n",
       "    </tr>\n",
       "    <tr>\n",
       "      <th>1</th>\n",
       "      <td>1</td>\n",
       "      <td>80e641a11e56f04c1ad469d5645fdfde</td>\n",
       "      <td>a548910a1c6147796b98fdf73dbeba33</td>\n",
       "      <td>5</td>\n",
       "    </tr>\n",
       "    <tr>\n",
       "      <th>2</th>\n",
       "      <td>2</td>\n",
       "      <td>228ce5500dc1d8e020d8d1322874b6f0</td>\n",
       "      <td>f9e4b658b201a9f2ecdecbb34bed034b</td>\n",
       "      <td>5</td>\n",
       "    </tr>\n",
       "    <tr>\n",
       "      <th>3</th>\n",
       "      <td>3</td>\n",
       "      <td>e64fb393e7b32834bb789ff8bb30750e</td>\n",
       "      <td>658677c97b385a9be170737859d3511b</td>\n",
       "      <td>5</td>\n",
       "    </tr>\n",
       "    <tr>\n",
       "      <th>4</th>\n",
       "      <td>4</td>\n",
       "      <td>f7c4243c7fe1938f181bec41a392bdeb</td>\n",
       "      <td>8e6bfb81e283fa7e4f11123a3fb894f1</td>\n",
       "      <td>5</td>\n",
       "    </tr>\n",
       "  </tbody>\n",
       "</table>\n",
       "</div>"
      ],
      "text/plain": [
       "   Unnamed: 0                         review_id  \\\n",
       "0           0  7bc2406110b926393aa56f80a40eba40   \n",
       "1           1  80e641a11e56f04c1ad469d5645fdfde   \n",
       "2           2  228ce5500dc1d8e020d8d1322874b6f0   \n",
       "3           3  e64fb393e7b32834bb789ff8bb30750e   \n",
       "4           4  f7c4243c7fe1938f181bec41a392bdeb   \n",
       "\n",
       "                           order_id  review_score  \n",
       "0  73fc7af87114b39712e6da79b0a377eb             4  \n",
       "1  a548910a1c6147796b98fdf73dbeba33             5  \n",
       "2  f9e4b658b201a9f2ecdecbb34bed034b             5  \n",
       "3  658677c97b385a9be170737859d3511b             5  \n",
       "4  8e6bfb81e283fa7e4f11123a3fb894f1             5  "
      ]
     },
     "execution_count": 18,
     "metadata": {},
     "output_type": "execute_result"
    }
   ],
   "source": [
    "order_reviews.head()"
   ]
  },
  {
   "cell_type": "code",
   "execution_count": 19,
   "id": "5bb44e83-342d-4632-b2e6-a59452ef1544",
   "metadata": {},
   "outputs": [
    {
     "data": {
      "text/plain": [
       "Unnamed: 0      0.0\n",
       "review_id       0.0\n",
       "order_id        0.0\n",
       "review_score    0.0\n",
       "dtype: float64"
      ]
     },
     "execution_count": 19,
     "metadata": {},
     "output_type": "execute_result"
    }
   ],
   "source": [
    "(order_reviews.isnull().sum()/order_reviews.shape[0]*100)"
   ]
  },
  {
   "cell_type": "code",
   "execution_count": null,
   "id": "6e6fe09f-2718-4f23-971e-5474fc1e5f11",
   "metadata": {},
   "outputs": [],
   "source": []
  },
  {
   "cell_type": "markdown",
   "id": "2aff9c1b-5aa2-4dbb-a7fd-de4474e397c3",
   "metadata": {},
   "source": [
    "# drop a column of two "
   ]
  },
  {
   "cell_type": "code",
   "execution_count": 21,
   "id": "1b51494d-9ef9-43e5-92cc-3b391287b223",
   "metadata": {},
   "outputs": [],
   "source": [
    "#order_reviews.drop(['review_comment_title','review_comment_message',],axis = 1, inplace = True)"
   ]
  },
  {
   "cell_type": "code",
   "execution_count": 22,
   "id": "f03fed9f-9ad8-4e80-b589-048db7a89811",
   "metadata": {},
   "outputs": [
    {
     "data": {
      "text/html": [
       "<div>\n",
       "<style scoped>\n",
       "    .dataframe tbody tr th:only-of-type {\n",
       "        vertical-align: middle;\n",
       "    }\n",
       "\n",
       "    .dataframe tbody tr th {\n",
       "        vertical-align: top;\n",
       "    }\n",
       "\n",
       "    .dataframe thead th {\n",
       "        text-align: right;\n",
       "    }\n",
       "</style>\n",
       "<table border=\"1\" class=\"dataframe\">\n",
       "  <thead>\n",
       "    <tr style=\"text-align: right;\">\n",
       "      <th></th>\n",
       "      <th>Unnamed: 0</th>\n",
       "      <th>review_id</th>\n",
       "      <th>order_id</th>\n",
       "      <th>review_score</th>\n",
       "    </tr>\n",
       "  </thead>\n",
       "  <tbody>\n",
       "    <tr>\n",
       "      <th>0</th>\n",
       "      <td>0</td>\n",
       "      <td>7bc2406110b926393aa56f80a40eba40</td>\n",
       "      <td>73fc7af87114b39712e6da79b0a377eb</td>\n",
       "      <td>4</td>\n",
       "    </tr>\n",
       "    <tr>\n",
       "      <th>1</th>\n",
       "      <td>1</td>\n",
       "      <td>80e641a11e56f04c1ad469d5645fdfde</td>\n",
       "      <td>a548910a1c6147796b98fdf73dbeba33</td>\n",
       "      <td>5</td>\n",
       "    </tr>\n",
       "    <tr>\n",
       "      <th>2</th>\n",
       "      <td>2</td>\n",
       "      <td>228ce5500dc1d8e020d8d1322874b6f0</td>\n",
       "      <td>f9e4b658b201a9f2ecdecbb34bed034b</td>\n",
       "      <td>5</td>\n",
       "    </tr>\n",
       "    <tr>\n",
       "      <th>3</th>\n",
       "      <td>3</td>\n",
       "      <td>e64fb393e7b32834bb789ff8bb30750e</td>\n",
       "      <td>658677c97b385a9be170737859d3511b</td>\n",
       "      <td>5</td>\n",
       "    </tr>\n",
       "    <tr>\n",
       "      <th>4</th>\n",
       "      <td>4</td>\n",
       "      <td>f7c4243c7fe1938f181bec41a392bdeb</td>\n",
       "      <td>8e6bfb81e283fa7e4f11123a3fb894f1</td>\n",
       "      <td>5</td>\n",
       "    </tr>\n",
       "  </tbody>\n",
       "</table>\n",
       "</div>"
      ],
      "text/plain": [
       "   Unnamed: 0                         review_id  \\\n",
       "0           0  7bc2406110b926393aa56f80a40eba40   \n",
       "1           1  80e641a11e56f04c1ad469d5645fdfde   \n",
       "2           2  228ce5500dc1d8e020d8d1322874b6f0   \n",
       "3           3  e64fb393e7b32834bb789ff8bb30750e   \n",
       "4           4  f7c4243c7fe1938f181bec41a392bdeb   \n",
       "\n",
       "                           order_id  review_score  \n",
       "0  73fc7af87114b39712e6da79b0a377eb             4  \n",
       "1  a548910a1c6147796b98fdf73dbeba33             5  \n",
       "2  f9e4b658b201a9f2ecdecbb34bed034b             5  \n",
       "3  658677c97b385a9be170737859d3511b             5  \n",
       "4  8e6bfb81e283fa7e4f11123a3fb894f1             5  "
      ]
     },
     "execution_count": 22,
     "metadata": {},
     "output_type": "execute_result"
    }
   ],
   "source": [
    "order_reviews.head(5)"
   ]
  },
  {
   "cell_type": "code",
   "execution_count": null,
   "id": "43ad7f38-8c9c-4f39-bba8-8bfb20005200",
   "metadata": {},
   "outputs": [],
   "source": [
    "#order_reviews.drop(['review_creation_date','review_answer_timestamp'],axis=1, inplace = True)"
   ]
  },
  {
   "cell_type": "code",
   "execution_count": null,
   "id": "c71507cf-a3a6-40ec-9587-b9bf557bef37",
   "metadata": {},
   "outputs": [],
   "source": [
    "#order_reviews.head(5)"
   ]
  },
  {
   "cell_type": "code",
   "execution_count": 24,
   "id": "2001da67-721e-49f8-bd6d-52c4a2883f5f",
   "metadata": {},
   "outputs": [],
   "source": [
    "order_reviews.to_csv('FINAL_Order_reviews.csv')"
   ]
  },
  {
   "cell_type": "code",
   "execution_count": 23,
   "id": "de006853-4b2e-460a-92a7-5a7f891a6d11",
   "metadata": {},
   "outputs": [],
   "source": [
    "order_reviews.drop('Unnamed: 0', axis=1,inplace=True)"
   ]
  },
  {
   "cell_type": "code",
   "execution_count": null,
   "id": "005fbdf7-74e5-4430-9fbe-5cb9c3bef1cd",
   "metadata": {},
   "outputs": [],
   "source": []
  }
 ],
 "metadata": {
  "kernelspec": {
   "display_name": "Python 3 (ipykernel)",
   "language": "python",
   "name": "python3"
  },
  "language_info": {
   "codemirror_mode": {
    "name": "ipython",
    "version": 3
   },
   "file_extension": ".py",
   "mimetype": "text/x-python",
   "name": "python",
   "nbconvert_exporter": "python",
   "pygments_lexer": "ipython3",
   "version": "3.13.5"
  }
 },
 "nbformat": 4,
 "nbformat_minor": 5
}
