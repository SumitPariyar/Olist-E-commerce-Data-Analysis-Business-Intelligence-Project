{
 "cells": [
  {
   "cell_type": "markdown",
   "id": "559eacd1-60fa-4940-9127-621b1b0dd6fa",
   "metadata": {},
   "source": [
    "# PRODUCTS"
   ]
  },
  {
   "cell_type": "code",
   "execution_count": 2,
   "id": "2494e0cc-65a4-40fc-900e-b9d639cea061",
   "metadata": {},
   "outputs": [],
   "source": [
    "import numpy as np\n",
    "import pandas as pd"
   ]
  },
  {
   "cell_type": "code",
   "execution_count": 4,
   "id": "c84053b2-32d7-4163-87d8-c83d6d84c65a",
   "metadata": {},
   "outputs": [],
   "source": [
    "products = pd.read_csv(\"OLIST_products_dataset.csv\")"
   ]
  },
  {
   "cell_type": "code",
   "execution_count": 5,
   "id": "282b8d70-71df-41e4-8f15-a2f04b226c71",
   "metadata": {},
   "outputs": [
    {
     "data": {
      "text/html": [
       "<div>\n",
       "<style scoped>\n",
       "    .dataframe tbody tr th:only-of-type {\n",
       "        vertical-align: middle;\n",
       "    }\n",
       "\n",
       "    .dataframe tbody tr th {\n",
       "        vertical-align: top;\n",
       "    }\n",
       "\n",
       "    .dataframe thead th {\n",
       "        text-align: right;\n",
       "    }\n",
       "</style>\n",
       "<table border=\"1\" class=\"dataframe\">\n",
       "  <thead>\n",
       "    <tr style=\"text-align: right;\">\n",
       "      <th></th>\n",
       "      <th>Unnamed: 0</th>\n",
       "      <th>product_id</th>\n",
       "      <th>product_category_name</th>\n",
       "      <th>product_photos_qty</th>\n",
       "      <th>product_weight_g</th>\n",
       "      <th>product_length_cm</th>\n",
       "      <th>product_height_cm</th>\n",
       "      <th>product_width_cm</th>\n",
       "    </tr>\n",
       "  </thead>\n",
       "  <tbody>\n",
       "    <tr>\n",
       "      <th>0</th>\n",
       "      <td>0</td>\n",
       "      <td>1e9e8ef04dbcff4541ed26657ea517e5</td>\n",
       "      <td>perfumaria</td>\n",
       "      <td>1</td>\n",
       "      <td>225.0</td>\n",
       "      <td>16.0</td>\n",
       "      <td>10.0</td>\n",
       "      <td>14.0</td>\n",
       "    </tr>\n",
       "    <tr>\n",
       "      <th>1</th>\n",
       "      <td>1</td>\n",
       "      <td>3aa071139cb16b67ca9e5dea641aaa2f</td>\n",
       "      <td>artes</td>\n",
       "      <td>1</td>\n",
       "      <td>1000.0</td>\n",
       "      <td>30.0</td>\n",
       "      <td>18.0</td>\n",
       "      <td>20.0</td>\n",
       "    </tr>\n",
       "    <tr>\n",
       "      <th>2</th>\n",
       "      <td>2</td>\n",
       "      <td>96bd76ec8810374ed1b65e291975717f</td>\n",
       "      <td>esporte_lazer</td>\n",
       "      <td>1</td>\n",
       "      <td>154.0</td>\n",
       "      <td>18.0</td>\n",
       "      <td>9.0</td>\n",
       "      <td>15.0</td>\n",
       "    </tr>\n",
       "  </tbody>\n",
       "</table>\n",
       "</div>"
      ],
      "text/plain": [
       "   Unnamed: 0                        product_id product_category_name  \\\n",
       "0           0  1e9e8ef04dbcff4541ed26657ea517e5            perfumaria   \n",
       "1           1  3aa071139cb16b67ca9e5dea641aaa2f                 artes   \n",
       "2           2  96bd76ec8810374ed1b65e291975717f         esporte_lazer   \n",
       "\n",
       "   product_photos_qty  product_weight_g  product_length_cm  product_height_cm  \\\n",
       "0                   1             225.0               16.0               10.0   \n",
       "1                   1            1000.0               30.0               18.0   \n",
       "2                   1             154.0               18.0                9.0   \n",
       "\n",
       "   product_width_cm  \n",
       "0              14.0  \n",
       "1              20.0  \n",
       "2              15.0  "
      ]
     },
     "execution_count": 5,
     "metadata": {},
     "output_type": "execute_result"
    }
   ],
   "source": [
    "products.head(3)"
   ]
  },
  {
   "cell_type": "code",
   "execution_count": 6,
   "id": "8ccebf27-0445-42ab-b6f0-0f0f5d5319db",
   "metadata": {},
   "outputs": [
    {
     "data": {
      "text/plain": [
       "Unnamed: 0               0\n",
       "product_id               0\n",
       "product_category_name    0\n",
       "product_photos_qty       0\n",
       "product_weight_g         0\n",
       "product_length_cm        0\n",
       "product_height_cm        0\n",
       "product_width_cm         0\n",
       "dtype: int64"
      ]
     },
     "execution_count": 6,
     "metadata": {},
     "output_type": "execute_result"
    }
   ],
   "source": [
    "products.isnull().sum()"
   ]
  },
  {
   "cell_type": "code",
   "execution_count": 7,
   "id": "47c571fc-0f32-4da4-86f3-53fb7ad9a694",
   "metadata": {},
   "outputs": [
    {
     "data": {
      "text/plain": [
       "(32340, 8)"
      ]
     },
     "execution_count": 7,
     "metadata": {},
     "output_type": "execute_result"
    }
   ],
   "source": [
    "products.shape"
   ]
  },
  {
   "cell_type": "code",
   "execution_count": 8,
   "id": "f3b1d199-02df-44be-897e-0021ec98cab6",
   "metadata": {},
   "outputs": [
    {
     "data": {
      "text/plain": [
       "np.int64(0)"
      ]
     },
     "execution_count": 8,
     "metadata": {},
     "output_type": "execute_result"
    }
   ],
   "source": [
    "products.duplicated().sum()"
   ]
  },
  {
   "cell_type": "code",
   "execution_count": 9,
   "id": "9a893888-7371-485e-a336-801c183a7f8d",
   "metadata": {},
   "outputs": [
    {
     "data": {
      "text/plain": [
       "Unnamed: 0               0.0\n",
       "product_id               0.0\n",
       "product_category_name    0.0\n",
       "product_photos_qty       0.0\n",
       "product_weight_g         0.0\n",
       "product_length_cm        0.0\n",
       "product_height_cm        0.0\n",
       "product_width_cm         0.0\n",
       "dtype: float64"
      ]
     },
     "execution_count": 9,
     "metadata": {},
     "output_type": "execute_result"
    }
   ],
   "source": [
    "(products.isnull().sum()/products.shape[0]*100)"
   ]
  },
  {
   "cell_type": "code",
   "execution_count": 10,
   "id": "bb55ad40-3175-4e68-b623-a14fb8b11ee2",
   "metadata": {},
   "outputs": [],
   "source": [
    "products.dropna(inplace=True)"
   ]
  },
  {
   "cell_type": "code",
   "execution_count": 11,
   "id": "8a345c87-0a66-4188-a0ed-e04078ba782b",
   "metadata": {},
   "outputs": [
    {
     "data": {
      "text/plain": [
       "(32340, 8)"
      ]
     },
     "execution_count": 11,
     "metadata": {},
     "output_type": "execute_result"
    }
   ],
   "source": [
    "products.shape"
   ]
  },
  {
   "cell_type": "code",
   "execution_count": 12,
   "id": "19460890-6074-413f-91d2-fad988110807",
   "metadata": {},
   "outputs": [
    {
     "name": "stdout",
     "output_type": "stream",
     "text": [
      "<class 'pandas.core.frame.DataFrame'>\n",
      "RangeIndex: 32340 entries, 0 to 32339\n",
      "Data columns (total 8 columns):\n",
      " #   Column                 Non-Null Count  Dtype  \n",
      "---  ------                 --------------  -----  \n",
      " 0   Unnamed: 0             32340 non-null  int64  \n",
      " 1   product_id             32340 non-null  object \n",
      " 2   product_category_name  32340 non-null  object \n",
      " 3   product_photos_qty     32340 non-null  int64  \n",
      " 4   product_weight_g       32340 non-null  float64\n",
      " 5   product_length_cm      32340 non-null  float64\n",
      " 6   product_height_cm      32340 non-null  float64\n",
      " 7   product_width_cm       32340 non-null  float64\n",
      "dtypes: float64(4), int64(2), object(2)\n",
      "memory usage: 2.0+ MB\n"
     ]
    }
   ],
   "source": [
    "products.info()"
   ]
  },
  {
   "cell_type": "markdown",
   "id": "b8b80ae6-d7d1-414a-aa42-5b9b0659a2f5",
   "metadata": {},
   "source": [
    "# drop product_category_name, product_description_name"
   ]
  },
  {
   "cell_type": "code",
   "execution_count": null,
   "id": "d17dc2ce-f24e-49be-ae52-9999657a6c59",
   "metadata": {},
   "outputs": [],
   "source": [
    "# products.drop(['product_name_lenght','product_description_lenght'],axis=1,inplace = True)"
   ]
  },
  {
   "cell_type": "code",
   "execution_count": null,
   "id": "0d8e3b05-5b39-4a22-b4b9-4e210aa4b37f",
   "metadata": {},
   "outputs": [],
   "source": [
    "products.head(5)"
   ]
  },
  {
   "cell_type": "code",
   "execution_count": 28,
   "id": "e627e4f1-be66-425c-aa8a-e1fe5c7dccc2",
   "metadata": {},
   "outputs": [],
   "source": [
    "# products['product_photos_qty'] = products['product_photos_qty'].astype(int)"
   ]
  },
  {
   "cell_type": "code",
   "execution_count": 14,
   "id": "06485347-d426-4a30-8da9-a3eccf7163ab",
   "metadata": {},
   "outputs": [
    {
     "name": "stdout",
     "output_type": "stream",
     "text": [
      "<class 'pandas.core.frame.DataFrame'>\n",
      "RangeIndex: 32340 entries, 0 to 32339\n",
      "Data columns (total 8 columns):\n",
      " #   Column                 Non-Null Count  Dtype  \n",
      "---  ------                 --------------  -----  \n",
      " 0   Unnamed: 0             32340 non-null  int64  \n",
      " 1   product_id             32340 non-null  object \n",
      " 2   product_category_name  32340 non-null  object \n",
      " 3   product_photos_qty     32340 non-null  int64  \n",
      " 4   product_weight_g       32340 non-null  float64\n",
      " 5   product_length_cm      32340 non-null  float64\n",
      " 6   product_height_cm      32340 non-null  float64\n",
      " 7   product_width_cm       32340 non-null  float64\n",
      "dtypes: float64(4), int64(2), object(2)\n",
      "memory usage: 2.0+ MB\n"
     ]
    }
   ],
   "source": [
    "products.info()"
   ]
  },
  {
   "cell_type": "code",
   "execution_count": 15,
   "id": "29b698bf-3fd2-41ce-836e-5f5f2cbd3654",
   "metadata": {},
   "outputs": [
    {
     "data": {
      "text/html": [
       "<div>\n",
       "<style scoped>\n",
       "    .dataframe tbody tr th:only-of-type {\n",
       "        vertical-align: middle;\n",
       "    }\n",
       "\n",
       "    .dataframe tbody tr th {\n",
       "        vertical-align: top;\n",
       "    }\n",
       "\n",
       "    .dataframe thead th {\n",
       "        text-align: right;\n",
       "    }\n",
       "</style>\n",
       "<table border=\"1\" class=\"dataframe\">\n",
       "  <thead>\n",
       "    <tr style=\"text-align: right;\">\n",
       "      <th></th>\n",
       "      <th>Unnamed: 0</th>\n",
       "      <th>product_id</th>\n",
       "      <th>product_category_name</th>\n",
       "      <th>product_photos_qty</th>\n",
       "      <th>product_weight_g</th>\n",
       "      <th>product_length_cm</th>\n",
       "      <th>product_height_cm</th>\n",
       "      <th>product_width_cm</th>\n",
       "    </tr>\n",
       "  </thead>\n",
       "  <tbody>\n",
       "    <tr>\n",
       "      <th>0</th>\n",
       "      <td>0</td>\n",
       "      <td>1e9e8ef04dbcff4541ed26657ea517e5</td>\n",
       "      <td>perfumaria</td>\n",
       "      <td>1</td>\n",
       "      <td>225.0</td>\n",
       "      <td>16.0</td>\n",
       "      <td>10.0</td>\n",
       "      <td>14.0</td>\n",
       "    </tr>\n",
       "    <tr>\n",
       "      <th>1</th>\n",
       "      <td>1</td>\n",
       "      <td>3aa071139cb16b67ca9e5dea641aaa2f</td>\n",
       "      <td>artes</td>\n",
       "      <td>1</td>\n",
       "      <td>1000.0</td>\n",
       "      <td>30.0</td>\n",
       "      <td>18.0</td>\n",
       "      <td>20.0</td>\n",
       "    </tr>\n",
       "    <tr>\n",
       "      <th>2</th>\n",
       "      <td>2</td>\n",
       "      <td>96bd76ec8810374ed1b65e291975717f</td>\n",
       "      <td>esporte_lazer</td>\n",
       "      <td>1</td>\n",
       "      <td>154.0</td>\n",
       "      <td>18.0</td>\n",
       "      <td>9.0</td>\n",
       "      <td>15.0</td>\n",
       "    </tr>\n",
       "    <tr>\n",
       "      <th>3</th>\n",
       "      <td>3</td>\n",
       "      <td>cef67bcfe19066a932b7673e239eb23d</td>\n",
       "      <td>bebes</td>\n",
       "      <td>1</td>\n",
       "      <td>371.0</td>\n",
       "      <td>26.0</td>\n",
       "      <td>4.0</td>\n",
       "      <td>26.0</td>\n",
       "    </tr>\n",
       "    <tr>\n",
       "      <th>4</th>\n",
       "      <td>4</td>\n",
       "      <td>9dc1a7de274444849c219cff195d0b71</td>\n",
       "      <td>utilidades_domesticas</td>\n",
       "      <td>4</td>\n",
       "      <td>625.0</td>\n",
       "      <td>20.0</td>\n",
       "      <td>17.0</td>\n",
       "      <td>13.0</td>\n",
       "    </tr>\n",
       "  </tbody>\n",
       "</table>\n",
       "</div>"
      ],
      "text/plain": [
       "   Unnamed: 0                        product_id  product_category_name  \\\n",
       "0           0  1e9e8ef04dbcff4541ed26657ea517e5             perfumaria   \n",
       "1           1  3aa071139cb16b67ca9e5dea641aaa2f                  artes   \n",
       "2           2  96bd76ec8810374ed1b65e291975717f          esporte_lazer   \n",
       "3           3  cef67bcfe19066a932b7673e239eb23d                  bebes   \n",
       "4           4  9dc1a7de274444849c219cff195d0b71  utilidades_domesticas   \n",
       "\n",
       "   product_photos_qty  product_weight_g  product_length_cm  product_height_cm  \\\n",
       "0                   1             225.0               16.0               10.0   \n",
       "1                   1            1000.0               30.0               18.0   \n",
       "2                   1             154.0               18.0                9.0   \n",
       "3                   1             371.0               26.0                4.0   \n",
       "4                   4             625.0               20.0               17.0   \n",
       "\n",
       "   product_width_cm  \n",
       "0              14.0  \n",
       "1              20.0  \n",
       "2              15.0  \n",
       "3              26.0  \n",
       "4              13.0  "
      ]
     },
     "execution_count": 15,
     "metadata": {},
     "output_type": "execute_result"
    }
   ],
   "source": [
    "products.head(5)"
   ]
  },
  {
   "cell_type": "code",
   "execution_count": null,
   "id": "7e3c8ca5-1020-428c-941f-0706595beacc",
   "metadata": {},
   "outputs": [],
   "source": [
    "products.drop(\"Unnamed: 0\", axis=1,"
   ]
  },
  {
   "cell_type": "code",
   "execution_count": 16,
   "id": "161b7c5d-4c73-453e-aba2-01e180343e14",
   "metadata": {},
   "outputs": [],
   "source": [
    "products.to_csv(\"FINAL_Products.csv\",index=False)"
   ]
  },
  {
   "cell_type": "code",
   "execution_count": null,
   "id": "de6d8908-5ac0-482a-bf49-3990f195eb3f",
   "metadata": {},
   "outputs": [],
   "source": []
  }
 ],
 "metadata": {
  "kernelspec": {
   "display_name": "Python 3 (ipykernel)",
   "language": "python",
   "name": "python3"
  },
  "language_info": {
   "codemirror_mode": {
    "name": "ipython",
    "version": 3
   },
   "file_extension": ".py",
   "mimetype": "text/x-python",
   "name": "python",
   "nbconvert_exporter": "python",
   "pygments_lexer": "ipython3",
   "version": "3.13.5"
  }
 },
 "nbformat": 4,
 "nbformat_minor": 5
}
