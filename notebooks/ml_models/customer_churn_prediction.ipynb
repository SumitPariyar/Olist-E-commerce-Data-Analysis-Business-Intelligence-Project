{
 "cells": [
  {
   "cell_type": "markdown",
   "id": "21e793c4-9d27-43ba-abd7-76abc1f145a6",
   "metadata": {},
   "source": [
    "# CUSTOMER CHURN PREDICTION"
   ]
  },
  {
   "cell_type": "code",
   "execution_count": 1,
   "id": "2d542211-2081-4a3c-b699-0db08dd555ae",
   "metadata": {},
   "outputs": [],
   "source": [
    "import numpy as np\n",
    "import pandas as pd\n",
    "import matplotlib.pyplot as plt\n",
    "import seaborn as sns\n",
    "from sklearn.preprocessing import StandardScaler, MinMaxScaler\n"
   ]
  },
  {
   "cell_type": "code",
   "execution_count": 2,
   "id": "3dadc302-20b1-40c4-a7cb-85c4f4c9102c",
   "metadata": {},
   "outputs": [],
   "source": [
    "dataset = pd.read_csv('Machine_learning_dataset_olist.csv')"
   ]
  },
  {
   "cell_type": "code",
   "execution_count": 3,
   "id": "c3281552-5c53-4617-aacc-05a8e1317edb",
   "metadata": {},
   "outputs": [
    {
     "data": {
      "text/html": [
       "<div>\n",
       "<style scoped>\n",
       "    .dataframe tbody tr th:only-of-type {\n",
       "        vertical-align: middle;\n",
       "    }\n",
       "\n",
       "    .dataframe tbody tr th {\n",
       "        vertical-align: top;\n",
       "    }\n",
       "\n",
       "    .dataframe thead th {\n",
       "        text-align: right;\n",
       "    }\n",
       "</style>\n",
       "<table border=\"1\" class=\"dataframe\">\n",
       "  <thead>\n",
       "    <tr style=\"text-align: right;\">\n",
       "      <th></th>\n",
       "      <th>order_id</th>\n",
       "      <th>customer_id</th>\n",
       "      <th>customer_city</th>\n",
       "      <th>customer_state</th>\n",
       "      <th>order_status</th>\n",
       "      <th>order_purchase_date</th>\n",
       "      <th>order_reached_date</th>\n",
       "      <th>order_estimate_delivery_date</th>\n",
       "      <th>product_id</th>\n",
       "      <th>product_category_name</th>\n",
       "      <th>...</th>\n",
       "      <th>price</th>\n",
       "      <th>freight_value</th>\n",
       "      <th>shipp_limit_date</th>\n",
       "      <th>payment_type</th>\n",
       "      <th>payment_installments</th>\n",
       "      <th>payment_value</th>\n",
       "      <th>review_score</th>\n",
       "      <th>seller_city</th>\n",
       "      <th>seller_state</th>\n",
       "      <th>customer_unique_id</th>\n",
       "    </tr>\n",
       "  </thead>\n",
       "  <tbody>\n",
       "    <tr>\n",
       "      <th>0</th>\n",
       "      <td>00010242fe8c5a6d1ba2dd792cb16214</td>\n",
       "      <td>3ce436f183e68e07877b285a838db11a</td>\n",
       "      <td>campos dos goytacazes</td>\n",
       "      <td>RJ</td>\n",
       "      <td>delivered</td>\n",
       "      <td>2017-09-13</td>\n",
       "      <td>2017-09-20</td>\n",
       "      <td>2017-09-29</td>\n",
       "      <td>4244733e06e7ecb4970a6e2683c13e61</td>\n",
       "      <td>cool_stuff</td>\n",
       "      <td>...</td>\n",
       "      <td>58.90</td>\n",
       "      <td>13.29</td>\n",
       "      <td>2017-09-19</td>\n",
       "      <td>credit_card</td>\n",
       "      <td>2.0</td>\n",
       "      <td>72.19</td>\n",
       "      <td>5.0</td>\n",
       "      <td>volta redonda</td>\n",
       "      <td>SP</td>\n",
       "      <td>871766c5855e863f6eccc05f988b23cb</td>\n",
       "    </tr>\n",
       "    <tr>\n",
       "      <th>1</th>\n",
       "      <td>00018f77f2f0320c557190d7a144bdd3</td>\n",
       "      <td>f6dd3ec061db4e3987629fe6b26e5cce</td>\n",
       "      <td>NaN</td>\n",
       "      <td>NaN</td>\n",
       "      <td>delivered</td>\n",
       "      <td>2017-04-26</td>\n",
       "      <td>2017-05-12</td>\n",
       "      <td>2017-05-15</td>\n",
       "      <td>e5f2d52b802189ee658865ca93d83a8f</td>\n",
       "      <td>pet_shop</td>\n",
       "      <td>...</td>\n",
       "      <td>239.90</td>\n",
       "      <td>19.93</td>\n",
       "      <td>2017-05-03</td>\n",
       "      <td>credit_card</td>\n",
       "      <td>3.0</td>\n",
       "      <td>259.83</td>\n",
       "      <td>4.0</td>\n",
       "      <td>sao paulo</td>\n",
       "      <td>SP</td>\n",
       "      <td>eb28e67c4c0b83846050ddfb8a35d051</td>\n",
       "    </tr>\n",
       "    <tr>\n",
       "      <th>2</th>\n",
       "      <td>000229ec398224ef6ca0657da4fc703e</td>\n",
       "      <td>6489ae5e4333f3693df5ad4372dab6d3</td>\n",
       "      <td>NaN</td>\n",
       "      <td>NaN</td>\n",
       "      <td>delivered</td>\n",
       "      <td>2018-01-14</td>\n",
       "      <td>2018-01-22</td>\n",
       "      <td>2018-02-05</td>\n",
       "      <td>c777355d18b72b67abbeef9df44fd0fd</td>\n",
       "      <td>moveis_decoracao</td>\n",
       "      <td>...</td>\n",
       "      <td>199.00</td>\n",
       "      <td>17.87</td>\n",
       "      <td>2018-01-18</td>\n",
       "      <td>credit_card</td>\n",
       "      <td>5.0</td>\n",
       "      <td>216.87</td>\n",
       "      <td>5.0</td>\n",
       "      <td>borda da mata</td>\n",
       "      <td>MG</td>\n",
       "      <td>3818d81c6709e39d06b2738a8d3a2474</td>\n",
       "    </tr>\n",
       "    <tr>\n",
       "      <th>3</th>\n",
       "      <td>00024acbcdf0a6daa1e931b038114c75</td>\n",
       "      <td>d4eb9395c8c0431ee92fce09860c5a06</td>\n",
       "      <td>NaN</td>\n",
       "      <td>NaN</td>\n",
       "      <td>delivered</td>\n",
       "      <td>2018-08-08</td>\n",
       "      <td>2018-08-14</td>\n",
       "      <td>2018-08-20</td>\n",
       "      <td>7634da152a4610f1595efa32f14722fc</td>\n",
       "      <td>perfumaria</td>\n",
       "      <td>...</td>\n",
       "      <td>12.99</td>\n",
       "      <td>12.79</td>\n",
       "      <td>2018-08-15</td>\n",
       "      <td>credit_card</td>\n",
       "      <td>2.0</td>\n",
       "      <td>25.78</td>\n",
       "      <td>4.0</td>\n",
       "      <td>franca</td>\n",
       "      <td>SP</td>\n",
       "      <td>af861d436cfc08b2c2ddefd0ba074622</td>\n",
       "    </tr>\n",
       "    <tr>\n",
       "      <th>4</th>\n",
       "      <td>00042b26cf59d7ce69dfabb4e55b4fd9</td>\n",
       "      <td>58dbd0b2d70206bf40e62cd34e84d795</td>\n",
       "      <td>NaN</td>\n",
       "      <td>NaN</td>\n",
       "      <td>delivered</td>\n",
       "      <td>2017-02-04</td>\n",
       "      <td>2017-03-01</td>\n",
       "      <td>2017-03-17</td>\n",
       "      <td>ac6c3623068f30de03045865e4e10089</td>\n",
       "      <td>ferramentas_jardim</td>\n",
       "      <td>...</td>\n",
       "      <td>199.90</td>\n",
       "      <td>18.14</td>\n",
       "      <td>2017-02-13</td>\n",
       "      <td>credit_card</td>\n",
       "      <td>3.0</td>\n",
       "      <td>218.04</td>\n",
       "      <td>5.0</td>\n",
       "      <td>loanda</td>\n",
       "      <td>PR</td>\n",
       "      <td>64b576fb70d441e8f1b2d7d446e483c5</td>\n",
       "    </tr>\n",
       "  </tbody>\n",
       "</table>\n",
       "<p>5 rows × 21 columns</p>\n",
       "</div>"
      ],
      "text/plain": [
       "                           order_id                       customer_id  \\\n",
       "0  00010242fe8c5a6d1ba2dd792cb16214  3ce436f183e68e07877b285a838db11a   \n",
       "1  00018f77f2f0320c557190d7a144bdd3  f6dd3ec061db4e3987629fe6b26e5cce   \n",
       "2  000229ec398224ef6ca0657da4fc703e  6489ae5e4333f3693df5ad4372dab6d3   \n",
       "3  00024acbcdf0a6daa1e931b038114c75  d4eb9395c8c0431ee92fce09860c5a06   \n",
       "4  00042b26cf59d7ce69dfabb4e55b4fd9  58dbd0b2d70206bf40e62cd34e84d795   \n",
       "\n",
       "           customer_city customer_state order_status order_purchase_date  \\\n",
       "0  campos dos goytacazes             RJ    delivered          2017-09-13   \n",
       "1                    NaN            NaN    delivered          2017-04-26   \n",
       "2                    NaN            NaN    delivered          2018-01-14   \n",
       "3                    NaN            NaN    delivered          2018-08-08   \n",
       "4                    NaN            NaN    delivered          2017-02-04   \n",
       "\n",
       "  order_reached_date order_estimate_delivery_date  \\\n",
       "0         2017-09-20                   2017-09-29   \n",
       "1         2017-05-12                   2017-05-15   \n",
       "2         2018-01-22                   2018-02-05   \n",
       "3         2018-08-14                   2018-08-20   \n",
       "4         2017-03-01                   2017-03-17   \n",
       "\n",
       "                         product_id product_category_name  ...   price  \\\n",
       "0  4244733e06e7ecb4970a6e2683c13e61            cool_stuff  ...   58.90   \n",
       "1  e5f2d52b802189ee658865ca93d83a8f              pet_shop  ...  239.90   \n",
       "2  c777355d18b72b67abbeef9df44fd0fd      moveis_decoracao  ...  199.00   \n",
       "3  7634da152a4610f1595efa32f14722fc            perfumaria  ...   12.99   \n",
       "4  ac6c3623068f30de03045865e4e10089    ferramentas_jardim  ...  199.90   \n",
       "\n",
       "   freight_value  shipp_limit_date payment_type payment_installments  \\\n",
       "0          13.29        2017-09-19  credit_card                  2.0   \n",
       "1          19.93        2017-05-03  credit_card                  3.0   \n",
       "2          17.87        2018-01-18  credit_card                  5.0   \n",
       "3          12.79        2018-08-15  credit_card                  2.0   \n",
       "4          18.14        2017-02-13  credit_card                  3.0   \n",
       "\n",
       "   payment_value  review_score    seller_city seller_state  \\\n",
       "0          72.19           5.0  volta redonda           SP   \n",
       "1         259.83           4.0      sao paulo           SP   \n",
       "2         216.87           5.0  borda da mata           MG   \n",
       "3          25.78           4.0         franca           SP   \n",
       "4         218.04           5.0         loanda           PR   \n",
       "\n",
       "                 customer_unique_id  \n",
       "0  871766c5855e863f6eccc05f988b23cb  \n",
       "1  eb28e67c4c0b83846050ddfb8a35d051  \n",
       "2  3818d81c6709e39d06b2738a8d3a2474  \n",
       "3  af861d436cfc08b2c2ddefd0ba074622  \n",
       "4  64b576fb70d441e8f1b2d7d446e483c5  \n",
       "\n",
       "[5 rows x 21 columns]"
      ]
     },
     "execution_count": 3,
     "metadata": {},
     "output_type": "execute_result"
    }
   ],
   "source": [
    "dataset.head()"
   ]
  },
  {
   "cell_type": "code",
   "execution_count": 4,
   "id": "b492ea0f-1c17-4a88-88fc-e0d1bf1c892f",
   "metadata": {},
   "outputs": [
    {
     "data": {
      "text/plain": [
       "(115706, 21)"
      ]
     },
     "execution_count": 4,
     "metadata": {},
     "output_type": "execute_result"
    }
   ],
   "source": [
    "dataset.shape"
   ]
  },
  {
   "cell_type": "code",
   "execution_count": 5,
   "id": "6e122d7a-0fab-4c11-a253-f68a85f6045a",
   "metadata": {},
   "outputs": [
    {
     "name": "stdout",
     "output_type": "stream",
     "text": [
      "<class 'pandas.core.frame.DataFrame'>\n",
      "RangeIndex: 115706 entries, 0 to 115705\n",
      "Data columns (total 21 columns):\n",
      " #   Column                        Non-Null Count   Dtype  \n",
      "---  ------                        --------------   -----  \n",
      " 0   order_id                      115706 non-null  object \n",
      " 1   customer_id                   115706 non-null  object \n",
      " 2   customer_city                 50398 non-null   object \n",
      " 3   customer_state                50398 non-null   object \n",
      " 4   order_status                  115706 non-null  object \n",
      " 5   order_purchase_date           115706 non-null  object \n",
      " 6   order_reached_date            115706 non-null  object \n",
      " 7   order_estimate_delivery_date  115706 non-null  object \n",
      " 8   product_id                    115706 non-null  object \n",
      " 9   product_category_name         114068 non-null  object \n",
      " 10  seller_id                     115706 non-null  object \n",
      " 11  price                         115706 non-null  float64\n",
      " 12  freight_value                 115706 non-null  float64\n",
      " 13  shipp_limit_date              115706 non-null  object \n",
      " 14  payment_type                  115703 non-null  object \n",
      " 15  payment_installments          115703 non-null  float64\n",
      " 16  payment_value                 115703 non-null  float64\n",
      " 17  review_score                  114845 non-null  float64\n",
      " 18  seller_city                   115706 non-null  object \n",
      " 19  seller_state                  115706 non-null  object \n",
      " 20  customer_unique_id            115706 non-null  object \n",
      "dtypes: float64(5), object(16)\n",
      "memory usage: 18.5+ MB\n"
     ]
    }
   ],
   "source": [
    "dataset.info()"
   ]
  },
  {
   "cell_type": "code",
   "execution_count": 6,
   "id": "743f85d5-f1d9-4cfd-91d2-034adb222ca1",
   "metadata": {},
   "outputs": [
    {
     "data": {
      "text/html": [
       "<div>\n",
       "<style scoped>\n",
       "    .dataframe tbody tr th:only-of-type {\n",
       "        vertical-align: middle;\n",
       "    }\n",
       "\n",
       "    .dataframe tbody tr th {\n",
       "        vertical-align: top;\n",
       "    }\n",
       "\n",
       "    .dataframe thead th {\n",
       "        text-align: right;\n",
       "    }\n",
       "</style>\n",
       "<table border=\"1\" class=\"dataframe\">\n",
       "  <thead>\n",
       "    <tr style=\"text-align: right;\">\n",
       "      <th></th>\n",
       "      <th>price</th>\n",
       "      <th>freight_value</th>\n",
       "      <th>payment_installments</th>\n",
       "      <th>payment_value</th>\n",
       "      <th>review_score</th>\n",
       "    </tr>\n",
       "  </thead>\n",
       "  <tbody>\n",
       "    <tr>\n",
       "      <th>count</th>\n",
       "      <td>115706.000000</td>\n",
       "      <td>115706.000000</td>\n",
       "      <td>115703.000000</td>\n",
       "      <td>115703.000000</td>\n",
       "      <td>114845.000000</td>\n",
       "    </tr>\n",
       "    <tr>\n",
       "      <th>mean</th>\n",
       "      <td>119.907518</td>\n",
       "      <td>19.981514</td>\n",
       "      <td>2.940823</td>\n",
       "      <td>171.812134</td>\n",
       "      <td>4.080317</td>\n",
       "    </tr>\n",
       "    <tr>\n",
       "      <th>std</th>\n",
       "      <td>182.679745</td>\n",
       "      <td>15.719324</td>\n",
       "      <td>2.776211</td>\n",
       "      <td>265.659388</td>\n",
       "      <td>1.347799</td>\n",
       "    </tr>\n",
       "    <tr>\n",
       "      <th>min</th>\n",
       "      <td>0.850000</td>\n",
       "      <td>0.000000</td>\n",
       "      <td>0.000000</td>\n",
       "      <td>0.000000</td>\n",
       "      <td>1.000000</td>\n",
       "    </tr>\n",
       "    <tr>\n",
       "      <th>25%</th>\n",
       "      <td>39.900000</td>\n",
       "      <td>13.080000</td>\n",
       "      <td>1.000000</td>\n",
       "      <td>60.840000</td>\n",
       "      <td>4.000000</td>\n",
       "    </tr>\n",
       "    <tr>\n",
       "      <th>50%</th>\n",
       "      <td>74.900000</td>\n",
       "      <td>16.280000</td>\n",
       "      <td>2.000000</td>\n",
       "      <td>108.110000</td>\n",
       "      <td>5.000000</td>\n",
       "    </tr>\n",
       "    <tr>\n",
       "      <th>75%</th>\n",
       "      <td>132.900000</td>\n",
       "      <td>21.160000</td>\n",
       "      <td>4.000000</td>\n",
       "      <td>188.940000</td>\n",
       "      <td>5.000000</td>\n",
       "    </tr>\n",
       "    <tr>\n",
       "      <th>max</th>\n",
       "      <td>6735.000000</td>\n",
       "      <td>409.680000</td>\n",
       "      <td>24.000000</td>\n",
       "      <td>13664.080000</td>\n",
       "      <td>5.000000</td>\n",
       "    </tr>\n",
       "  </tbody>\n",
       "</table>\n",
       "</div>"
      ],
      "text/plain": [
       "               price  freight_value  payment_installments  payment_value  \\\n",
       "count  115706.000000  115706.000000         115703.000000  115703.000000   \n",
       "mean      119.907518      19.981514              2.940823     171.812134   \n",
       "std       182.679745      15.719324              2.776211     265.659388   \n",
       "min         0.850000       0.000000              0.000000       0.000000   \n",
       "25%        39.900000      13.080000              1.000000      60.840000   \n",
       "50%        74.900000      16.280000              2.000000     108.110000   \n",
       "75%       132.900000      21.160000              4.000000     188.940000   \n",
       "max      6735.000000     409.680000             24.000000   13664.080000   \n",
       "\n",
       "        review_score  \n",
       "count  114845.000000  \n",
       "mean        4.080317  \n",
       "std         1.347799  \n",
       "min         1.000000  \n",
       "25%         4.000000  \n",
       "50%         5.000000  \n",
       "75%         5.000000  \n",
       "max         5.000000  "
      ]
     },
     "execution_count": 6,
     "metadata": {},
     "output_type": "execute_result"
    }
   ],
   "source": [
    "dataset.describe()"
   ]
  },
  {
   "cell_type": "code",
   "execution_count": 7,
   "id": "31f1f2b3-0ee7-479c-aa04-2fb6e057d2d4",
   "metadata": {},
   "outputs": [
    {
     "data": {
      "text/html": [
       "<div>\n",
       "<style scoped>\n",
       "    .dataframe tbody tr th:only-of-type {\n",
       "        vertical-align: middle;\n",
       "    }\n",
       "\n",
       "    .dataframe tbody tr th {\n",
       "        vertical-align: top;\n",
       "    }\n",
       "\n",
       "    .dataframe thead th {\n",
       "        text-align: right;\n",
       "    }\n",
       "</style>\n",
       "<table border=\"1\" class=\"dataframe\">\n",
       "  <thead>\n",
       "    <tr style=\"text-align: right;\">\n",
       "      <th></th>\n",
       "      <th>order_id</th>\n",
       "      <th>customer_id</th>\n",
       "      <th>customer_city</th>\n",
       "      <th>customer_state</th>\n",
       "      <th>order_status</th>\n",
       "      <th>order_purchase_date</th>\n",
       "      <th>order_reached_date</th>\n",
       "      <th>order_estimate_delivery_date</th>\n",
       "      <th>product_id</th>\n",
       "      <th>product_category_name</th>\n",
       "      <th>...</th>\n",
       "      <th>price</th>\n",
       "      <th>freight_value</th>\n",
       "      <th>shipp_limit_date</th>\n",
       "      <th>payment_type</th>\n",
       "      <th>payment_installments</th>\n",
       "      <th>payment_value</th>\n",
       "      <th>review_score</th>\n",
       "      <th>seller_city</th>\n",
       "      <th>seller_state</th>\n",
       "      <th>customer_unique_id</th>\n",
       "    </tr>\n",
       "  </thead>\n",
       "  <tbody>\n",
       "    <tr>\n",
       "      <th>0</th>\n",
       "      <td>00010242fe8c5a6d1ba2dd792cb16214</td>\n",
       "      <td>3ce436f183e68e07877b285a838db11a</td>\n",
       "      <td>campos dos goytacazes</td>\n",
       "      <td>RJ</td>\n",
       "      <td>delivered</td>\n",
       "      <td>2017-09-13</td>\n",
       "      <td>2017-09-20</td>\n",
       "      <td>2017-09-29</td>\n",
       "      <td>4244733e06e7ecb4970a6e2683c13e61</td>\n",
       "      <td>cool_stuff</td>\n",
       "      <td>...</td>\n",
       "      <td>58.9</td>\n",
       "      <td>13.29</td>\n",
       "      <td>2017-09-19</td>\n",
       "      <td>credit_card</td>\n",
       "      <td>2.0</td>\n",
       "      <td>72.19</td>\n",
       "      <td>5.0</td>\n",
       "      <td>volta redonda</td>\n",
       "      <td>SP</td>\n",
       "      <td>871766c5855e863f6eccc05f988b23cb</td>\n",
       "    </tr>\n",
       "  </tbody>\n",
       "</table>\n",
       "<p>1 rows × 21 columns</p>\n",
       "</div>"
      ],
      "text/plain": [
       "                           order_id                       customer_id  \\\n",
       "0  00010242fe8c5a6d1ba2dd792cb16214  3ce436f183e68e07877b285a838db11a   \n",
       "\n",
       "           customer_city customer_state order_status order_purchase_date  \\\n",
       "0  campos dos goytacazes             RJ    delivered          2017-09-13   \n",
       "\n",
       "  order_reached_date order_estimate_delivery_date  \\\n",
       "0         2017-09-20                   2017-09-29   \n",
       "\n",
       "                         product_id product_category_name  ... price  \\\n",
       "0  4244733e06e7ecb4970a6e2683c13e61            cool_stuff  ...  58.9   \n",
       "\n",
       "   freight_value  shipp_limit_date payment_type payment_installments  \\\n",
       "0          13.29        2017-09-19  credit_card                  2.0   \n",
       "\n",
       "   payment_value  review_score    seller_city seller_state  \\\n",
       "0          72.19           5.0  volta redonda           SP   \n",
       "\n",
       "                 customer_unique_id  \n",
       "0  871766c5855e863f6eccc05f988b23cb  \n",
       "\n",
       "[1 rows x 21 columns]"
      ]
     },
     "execution_count": 7,
     "metadata": {},
     "output_type": "execute_result"
    }
   ],
   "source": [
    "dataset.head(1)"
   ]
  },
  {
   "cell_type": "code",
   "execution_count": 8,
   "id": "85844e38-72de-4861-a8ef-d960c295e45e",
   "metadata": {},
   "outputs": [],
   "source": [
    "dataset.drop(\"shipp_limit_date\",axis=1,inplace=True)"
   ]
  },
  {
   "cell_type": "code",
   "execution_count": 9,
   "id": "8d9013f5-0ccd-44c5-9431-25c01350593a",
   "metadata": {},
   "outputs": [
    {
     "data": {
      "text/plain": [
       "(115706, 20)"
      ]
     },
     "execution_count": 9,
     "metadata": {},
     "output_type": "execute_result"
    }
   ],
   "source": [
    "dataset.shape"
   ]
  },
  {
   "cell_type": "markdown",
   "id": "a5e912e1-753f-49e1-bb89-b6710f3802aa",
   "metadata": {},
   "source": [
    "# CHANGING DATA TYPE"
   ]
  },
  {
   "cell_type": "markdown",
   "id": "49ff6480-d4b6-4f5d-919e-6096e7a11692",
   "metadata": {},
   "source": [
    "# convert date as object into date as datatype"
   ]
  },
  {
   "cell_type": "code",
   "execution_count": 10,
   "id": "8fa20064-e9c4-46d0-893c-934f7e9706d6",
   "metadata": {},
   "outputs": [],
   "source": [
    "dataset['order_purchase_date'] = pd.to_datetime(dataset['order_purchase_date'])\n",
    "dataset['order_reached_date'] = pd.to_datetime(dataset['order_reached_date'])\n",
    "dataset['order_estimate_delivery_date'] = pd.to_datetime(dataset['order_estimate_delivery_date'])\n"
   ]
  },
  {
   "cell_type": "code",
   "execution_count": 11,
   "id": "c16652e5-2a86-4945-9b28-65fc202c0fba",
   "metadata": {},
   "outputs": [
    {
     "name": "stdout",
     "output_type": "stream",
     "text": [
      "<class 'pandas.core.frame.DataFrame'>\n",
      "RangeIndex: 115706 entries, 0 to 115705\n",
      "Data columns (total 20 columns):\n",
      " #   Column                        Non-Null Count   Dtype         \n",
      "---  ------                        --------------   -----         \n",
      " 0   order_id                      115706 non-null  object        \n",
      " 1   customer_id                   115706 non-null  object        \n",
      " 2   customer_city                 50398 non-null   object        \n",
      " 3   customer_state                50398 non-null   object        \n",
      " 4   order_status                  115706 non-null  object        \n",
      " 5   order_purchase_date           115706 non-null  datetime64[ns]\n",
      " 6   order_reached_date            115706 non-null  datetime64[ns]\n",
      " 7   order_estimate_delivery_date  115706 non-null  datetime64[ns]\n",
      " 8   product_id                    115706 non-null  object        \n",
      " 9   product_category_name         114068 non-null  object        \n",
      " 10  seller_id                     115706 non-null  object        \n",
      " 11  price                         115706 non-null  float64       \n",
      " 12  freight_value                 115706 non-null  float64       \n",
      " 13  payment_type                  115703 non-null  object        \n",
      " 14  payment_installments          115703 non-null  float64       \n",
      " 15  payment_value                 115703 non-null  float64       \n",
      " 16  review_score                  114845 non-null  float64       \n",
      " 17  seller_city                   115706 non-null  object        \n",
      " 18  seller_state                  115706 non-null  object        \n",
      " 19  customer_unique_id            115706 non-null  object        \n",
      "dtypes: datetime64[ns](3), float64(5), object(12)\n",
      "memory usage: 17.7+ MB\n"
     ]
    }
   ],
   "source": [
    "dataset.info()"
   ]
  },
  {
   "cell_type": "code",
   "execution_count": 12,
   "id": "420c9afc-abfe-4614-ab7c-06ffff1bcf42",
   "metadata": {
    "scrolled": true
   },
   "outputs": [
    {
     "data": {
      "text/plain": [
       "order_id                            0\n",
       "customer_id                         0\n",
       "customer_city                   65308\n",
       "customer_state                  65308\n",
       "order_status                        0\n",
       "order_purchase_date                 0\n",
       "order_reached_date                  0\n",
       "order_estimate_delivery_date        0\n",
       "product_id                          0\n",
       "product_category_name            1638\n",
       "seller_id                           0\n",
       "price                               0\n",
       "freight_value                       0\n",
       "payment_type                        3\n",
       "payment_installments                3\n",
       "payment_value                       3\n",
       "review_score                      861\n",
       "seller_city                         0\n",
       "seller_state                        0\n",
       "customer_unique_id                  0\n",
       "dtype: int64"
      ]
     },
     "execution_count": 12,
     "metadata": {},
     "output_type": "execute_result"
    }
   ],
   "source": [
    "dataset.isnull().sum()"
   ]
  },
  {
   "cell_type": "code",
   "execution_count": 13,
   "id": "cb68e93d-ec25-4ec5-a6c7-5151610db79b",
   "metadata": {},
   "outputs": [],
   "source": [
    "# drop a columns which are over missing values"
   ]
  },
  {
   "cell_type": "code",
   "execution_count": 14,
   "id": "2668379c-cf89-4b7c-8891-26c76372e62f",
   "metadata": {},
   "outputs": [],
   "source": [
    "dataset.drop(['customer_city','customer_state'],axis=1,inplace=True)"
   ]
  },
  {
   "cell_type": "code",
   "execution_count": 15,
   "id": "d85a7bc9-be9f-40a4-a2c4-c01291ce95b2",
   "metadata": {},
   "outputs": [
    {
     "data": {
      "text/plain": [
       "(115706, 18)"
      ]
     },
     "execution_count": 15,
     "metadata": {},
     "output_type": "execute_result"
    }
   ],
   "source": [
    "dataset.shape"
   ]
  },
  {
   "cell_type": "code",
   "execution_count": 16,
   "id": "dac693cc-1699-4faa-9ec2-373da5e5de4d",
   "metadata": {},
   "outputs": [
    {
     "name": "stderr",
     "output_type": "stream",
     "text": [
      "C:\\Users\\Lenovo\\AppData\\Local\\Temp\\ipykernel_4856\\2943675558.py:1: FutureWarning: A value is trying to be set on a copy of a DataFrame or Series through chained assignment using an inplace method.\n",
      "The behavior will change in pandas 3.0. This inplace method will never work because the intermediate object on which we are setting values always behaves as a copy.\n",
      "\n",
      "For example, when doing 'df[col].method(value, inplace=True)', try using 'df.method({col: value}, inplace=True)' or df[col] = df[col].method(value) instead, to perform the operation inplace on the original object.\n",
      "\n",
      "\n",
      "  dataset['product_category_name'].fillna('UNKNOW',inplace=True)\n"
     ]
    }
   ],
   "source": [
    "dataset['product_category_name'].fillna('UNKNOW',inplace=True)"
   ]
  },
  {
   "cell_type": "code",
   "execution_count": 17,
   "id": "81d30802-d06a-499f-b3a8-8c75721895eb",
   "metadata": {},
   "outputs": [
    {
     "data": {
      "text/plain": [
       "order_id                          0\n",
       "customer_id                       0\n",
       "order_status                      0\n",
       "order_purchase_date               0\n",
       "order_reached_date                0\n",
       "order_estimate_delivery_date      0\n",
       "product_id                        0\n",
       "product_category_name             0\n",
       "seller_id                         0\n",
       "price                             0\n",
       "freight_value                     0\n",
       "payment_type                      3\n",
       "payment_installments              3\n",
       "payment_value                     3\n",
       "review_score                    861\n",
       "seller_city                       0\n",
       "seller_state                      0\n",
       "customer_unique_id                0\n",
       "dtype: int64"
      ]
     },
     "execution_count": 17,
     "metadata": {},
     "output_type": "execute_result"
    }
   ],
   "source": [
    "dataset.isnull().sum()"
   ]
  },
  {
   "cell_type": "markdown",
   "id": "aa3869cd-dd7c-4534-8f0e-374d04465049",
   "metadata": {},
   "source": [
    "# EDA"
   ]
  },
  {
   "cell_type": "code",
   "execution_count": 18,
   "id": "164af37a-7c3f-451a-9324-e7b78f9c7127",
   "metadata": {},
   "outputs": [],
   "source": [
    "avg_review_score = dataset['review_score'].mean()"
   ]
  },
  {
   "cell_type": "code",
   "execution_count": 19,
   "id": "268550f3-361c-47e0-903a-ce5523077087",
   "metadata": {},
   "outputs": [
    {
     "data": {
      "text/plain": [
       "np.float64(4.080316948931168)"
      ]
     },
     "execution_count": 19,
     "metadata": {},
     "output_type": "execute_result"
    }
   ],
   "source": [
    "avg_review_score"
   ]
  },
  {
   "cell_type": "code",
   "execution_count": 20,
   "id": "af8fe062-fc1b-4b74-b454-fa3f9751741e",
   "metadata": {},
   "outputs": [
    {
     "name": "stderr",
     "output_type": "stream",
     "text": [
      "C:\\Users\\Lenovo\\AppData\\Local\\Temp\\ipykernel_4856\\512034081.py:1: FutureWarning: A value is trying to be set on a copy of a DataFrame or Series through chained assignment using an inplace method.\n",
      "The behavior will change in pandas 3.0. This inplace method will never work because the intermediate object on which we are setting values always behaves as a copy.\n",
      "\n",
      "For example, when doing 'df[col].method(value, inplace=True)', try using 'df.method({col: value}, inplace=True)' or df[col] = df[col].method(value) instead, to perform the operation inplace on the original object.\n",
      "\n",
      "\n",
      "  dataset['review_score'].fillna(avg_review_score,inplace= True)\n"
     ]
    }
   ],
   "source": [
    "dataset['review_score'].fillna(avg_review_score,inplace= True)"
   ]
  },
  {
   "cell_type": "code",
   "execution_count": 21,
   "id": "2b00dff1-78b9-4738-a2d0-fd3ccad57b1f",
   "metadata": {},
   "outputs": [
    {
     "data": {
      "text/plain": [
       "order_id                        0\n",
       "customer_id                     0\n",
       "order_status                    0\n",
       "order_purchase_date             0\n",
       "order_reached_date              0\n",
       "order_estimate_delivery_date    0\n",
       "product_id                      0\n",
       "product_category_name           0\n",
       "seller_id                       0\n",
       "price                           0\n",
       "freight_value                   0\n",
       "payment_type                    3\n",
       "payment_installments            3\n",
       "payment_value                   3\n",
       "review_score                    0\n",
       "seller_city                     0\n",
       "seller_state                    0\n",
       "customer_unique_id              0\n",
       "dtype: int64"
      ]
     },
     "execution_count": 21,
     "metadata": {},
     "output_type": "execute_result"
    }
   ],
   "source": [
    "dataset.isnull().sum()"
   ]
  },
  {
   "cell_type": "code",
   "execution_count": 22,
   "id": "1b43f229-dfb4-4069-a1d1-a97e998f95e9",
   "metadata": {},
   "outputs": [],
   "source": [
    "dataset.drop(['customer_id','order_status','seller_id','seller_city','seller_state'],axis=1,inplace=True)"
   ]
  },
  {
   "cell_type": "code",
   "execution_count": 23,
   "id": "8eca4602-6176-44a3-baba-743525f1231e",
   "metadata": {},
   "outputs": [
    {
     "data": {
      "text/html": [
       "<div>\n",
       "<style scoped>\n",
       "    .dataframe tbody tr th:only-of-type {\n",
       "        vertical-align: middle;\n",
       "    }\n",
       "\n",
       "    .dataframe tbody tr th {\n",
       "        vertical-align: top;\n",
       "    }\n",
       "\n",
       "    .dataframe thead th {\n",
       "        text-align: right;\n",
       "    }\n",
       "</style>\n",
       "<table border=\"1\" class=\"dataframe\">\n",
       "  <thead>\n",
       "    <tr style=\"text-align: right;\">\n",
       "      <th></th>\n",
       "      <th>order_id</th>\n",
       "      <th>order_purchase_date</th>\n",
       "      <th>order_reached_date</th>\n",
       "      <th>order_estimate_delivery_date</th>\n",
       "      <th>product_id</th>\n",
       "      <th>product_category_name</th>\n",
       "      <th>price</th>\n",
       "      <th>freight_value</th>\n",
       "      <th>payment_type</th>\n",
       "      <th>payment_installments</th>\n",
       "      <th>payment_value</th>\n",
       "      <th>review_score</th>\n",
       "      <th>customer_unique_id</th>\n",
       "    </tr>\n",
       "  </thead>\n",
       "  <tbody>\n",
       "    <tr>\n",
       "      <th>0</th>\n",
       "      <td>00010242fe8c5a6d1ba2dd792cb16214</td>\n",
       "      <td>2017-09-13</td>\n",
       "      <td>2017-09-20</td>\n",
       "      <td>2017-09-29</td>\n",
       "      <td>4244733e06e7ecb4970a6e2683c13e61</td>\n",
       "      <td>cool_stuff</td>\n",
       "      <td>58.9</td>\n",
       "      <td>13.29</td>\n",
       "      <td>credit_card</td>\n",
       "      <td>2.0</td>\n",
       "      <td>72.19</td>\n",
       "      <td>5.0</td>\n",
       "      <td>871766c5855e863f6eccc05f988b23cb</td>\n",
       "    </tr>\n",
       "  </tbody>\n",
       "</table>\n",
       "</div>"
      ],
      "text/plain": [
       "                           order_id order_purchase_date order_reached_date  \\\n",
       "0  00010242fe8c5a6d1ba2dd792cb16214          2017-09-13         2017-09-20   \n",
       "\n",
       "  order_estimate_delivery_date                        product_id  \\\n",
       "0                   2017-09-29  4244733e06e7ecb4970a6e2683c13e61   \n",
       "\n",
       "  product_category_name  price  freight_value payment_type  \\\n",
       "0            cool_stuff   58.9          13.29  credit_card   \n",
       "\n",
       "   payment_installments  payment_value  review_score  \\\n",
       "0                   2.0          72.19           5.0   \n",
       "\n",
       "                 customer_unique_id  \n",
       "0  871766c5855e863f6eccc05f988b23cb  "
      ]
     },
     "execution_count": 23,
     "metadata": {},
     "output_type": "execute_result"
    }
   ],
   "source": [
    "dataset.head(1)"
   ]
  },
  {
   "cell_type": "code",
   "execution_count": 24,
   "id": "df0a3d5c-af13-4b9e-8382-aaf9abad53ae",
   "metadata": {},
   "outputs": [
    {
     "data": {
      "text/plain": [
       "order_id                        0\n",
       "order_purchase_date             0\n",
       "order_reached_date              0\n",
       "order_estimate_delivery_date    0\n",
       "product_id                      0\n",
       "product_category_name           0\n",
       "price                           0\n",
       "freight_value                   0\n",
       "payment_type                    3\n",
       "payment_installments            3\n",
       "payment_value                   3\n",
       "review_score                    0\n",
       "customer_unique_id              0\n",
       "dtype: int64"
      ]
     },
     "execution_count": 24,
     "metadata": {},
     "output_type": "execute_result"
    }
   ],
   "source": [
    "dataset.isnull().sum()"
   ]
  },
  {
   "cell_type": "code",
   "execution_count": 25,
   "id": "5adb700f-fade-4c8c-a0e3-a3c3e8732e75",
   "metadata": {},
   "outputs": [],
   "source": [
    "dataset.dropna(inplace=True)"
   ]
  },
  {
   "cell_type": "code",
   "execution_count": 26,
   "id": "89793dc4-8829-41d6-88ef-bf4c1b3a2513",
   "metadata": {},
   "outputs": [
    {
     "data": {
      "text/plain": [
       "order_id                        0\n",
       "order_purchase_date             0\n",
       "order_reached_date              0\n",
       "order_estimate_delivery_date    0\n",
       "product_id                      0\n",
       "product_category_name           0\n",
       "price                           0\n",
       "freight_value                   0\n",
       "payment_type                    0\n",
       "payment_installments            0\n",
       "payment_value                   0\n",
       "review_score                    0\n",
       "customer_unique_id              0\n",
       "dtype: int64"
      ]
     },
     "execution_count": 26,
     "metadata": {},
     "output_type": "execute_result"
    }
   ],
   "source": [
    "dataset.isnull().sum()"
   ]
  },
  {
   "cell_type": "code",
   "execution_count": 27,
   "id": "cc6f3225-2f84-4e2d-9e48-e62dfff78756",
   "metadata": {},
   "outputs": [
    {
     "data": {
      "text/plain": [
       "(115703, 13)"
      ]
     },
     "execution_count": 27,
     "metadata": {},
     "output_type": "execute_result"
    }
   ],
   "source": [
    "dataset.shape"
   ]
  },
  {
   "cell_type": "code",
   "execution_count": 28,
   "id": "8f867f92-a150-43d3-a7a1-0ab0c152d825",
   "metadata": {},
   "outputs": [
    {
     "data": {
      "text/html": [
       "<div>\n",
       "<style scoped>\n",
       "    .dataframe tbody tr th:only-of-type {\n",
       "        vertical-align: middle;\n",
       "    }\n",
       "\n",
       "    .dataframe tbody tr th {\n",
       "        vertical-align: top;\n",
       "    }\n",
       "\n",
       "    .dataframe thead th {\n",
       "        text-align: right;\n",
       "    }\n",
       "</style>\n",
       "<table border=\"1\" class=\"dataframe\">\n",
       "  <thead>\n",
       "    <tr style=\"text-align: right;\">\n",
       "      <th></th>\n",
       "      <th>order_id</th>\n",
       "      <th>order_purchase_date</th>\n",
       "      <th>order_reached_date</th>\n",
       "      <th>order_estimate_delivery_date</th>\n",
       "      <th>product_id</th>\n",
       "      <th>product_category_name</th>\n",
       "      <th>price</th>\n",
       "      <th>freight_value</th>\n",
       "      <th>payment_type</th>\n",
       "      <th>payment_installments</th>\n",
       "      <th>payment_value</th>\n",
       "      <th>review_score</th>\n",
       "      <th>customer_unique_id</th>\n",
       "    </tr>\n",
       "  </thead>\n",
       "  <tbody>\n",
       "    <tr>\n",
       "      <th>0</th>\n",
       "      <td>00010242fe8c5a6d1ba2dd792cb16214</td>\n",
       "      <td>2017-09-13</td>\n",
       "      <td>2017-09-20</td>\n",
       "      <td>2017-09-29</td>\n",
       "      <td>4244733e06e7ecb4970a6e2683c13e61</td>\n",
       "      <td>cool_stuff</td>\n",
       "      <td>58.9</td>\n",
       "      <td>13.29</td>\n",
       "      <td>credit_card</td>\n",
       "      <td>2.0</td>\n",
       "      <td>72.19</td>\n",
       "      <td>5.0</td>\n",
       "      <td>871766c5855e863f6eccc05f988b23cb</td>\n",
       "    </tr>\n",
       "  </tbody>\n",
       "</table>\n",
       "</div>"
      ],
      "text/plain": [
       "                           order_id order_purchase_date order_reached_date  \\\n",
       "0  00010242fe8c5a6d1ba2dd792cb16214          2017-09-13         2017-09-20   \n",
       "\n",
       "  order_estimate_delivery_date                        product_id  \\\n",
       "0                   2017-09-29  4244733e06e7ecb4970a6e2683c13e61   \n",
       "\n",
       "  product_category_name  price  freight_value payment_type  \\\n",
       "0            cool_stuff   58.9          13.29  credit_card   \n",
       "\n",
       "   payment_installments  payment_value  review_score  \\\n",
       "0                   2.0          72.19           5.0   \n",
       "\n",
       "                 customer_unique_id  \n",
       "0  871766c5855e863f6eccc05f988b23cb  "
      ]
     },
     "execution_count": 28,
     "metadata": {},
     "output_type": "execute_result"
    }
   ],
   "source": [
    "dataset.head(1)"
   ]
  },
  {
   "cell_type": "markdown",
   "id": "0488c733-4df4-48c7-8d89-242ed80ad9d5",
   "metadata": {},
   "source": [
    "#  FEATURE enginEering"
   ]
  },
  {
   "cell_type": "markdown",
   "id": "25f35211-b1c3-41c4-b27b-ec9c71970173",
   "metadata": {},
   "source": [
    "# average_review"
   ]
  },
  {
   "cell_type": "code",
   "execution_count": 200,
   "id": "943fcf70-9dc1-4ae9-80fe-011beaf91c19",
   "metadata": {},
   "outputs": [],
   "source": [
    "avg_review = dataset.groupby('customer_unique_id')['review_score'].mean().reset_index(name='avg_review_score')\n"
   ]
  },
  {
   "cell_type": "code",
   "execution_count": null,
   "id": "3412bbe7-7b1d-4347-9fb3-4d775458aa51",
   "metadata": {},
   "outputs": [],
   "source": []
  },
  {
   "cell_type": "markdown",
   "id": "255cca1a-9b9d-4f78-9b69-e550b0726588",
   "metadata": {},
   "source": [
    "# Average delivery delay"
   ]
  },
  {
   "cell_type": "code",
   "execution_count": 201,
   "id": "c70b5bab-c078-4c3b-b7f3-52c8622fff47",
   "metadata": {},
   "outputs": [],
   "source": [
    "dataset['delivery_delay'] = (dataset['order_reached_date'] - dataset['order_estimate_delivery_date']).dt.days\n",
    "avg_delay = dataset.groupby('customer_unique_id')['delivery_delay'].mean().reset_index(name='avg_delivery_delay')\n"
   ]
  },
  {
   "cell_type": "code",
   "execution_count": null,
   "id": "10d8c7fc-0cd2-4a79-8385-657264cdd4cf",
   "metadata": {},
   "outputs": [],
   "source": []
  },
  {
   "cell_type": "markdown",
   "id": "427a1906-a59c-4ec6-b96f-63266b234918",
   "metadata": {},
   "source": [
    "# Average feright (shipping ) values"
   ]
  },
  {
   "cell_type": "code",
   "execution_count": 202,
   "id": "0263a0a1-8021-4430-bf09-6989f6d9bada",
   "metadata": {},
   "outputs": [],
   "source": [
    "avg_freight = dataset.groupby('customer_unique_id')['freight_value'].mean().reset_index(name='avg_freight')"
   ]
  },
  {
   "cell_type": "markdown",
   "id": "fea8d6e1-5f5b-4a00-8cb9-5d1e288fda57",
   "metadata": {},
   "source": [
    "# Average no payment installement"
   ]
  },
  {
   "cell_type": "code",
   "execution_count": 203,
   "id": "13e175a8-2d58-4046-a03e-59d8ce639288",
   "metadata": {},
   "outputs": [],
   "source": [
    "avg_installments = dataset.groupby('customer_unique_id')['payment_installments'].mean().reset_index(name='avg_payment')"
   ]
  },
  {
   "cell_type": "markdown",
   "id": "f24f4047-681c-4ca4-8414-d125c7a3570f",
   "metadata": {},
   "source": [
    "# RECENCY DAYS"
   ]
  },
  {
   "cell_type": "code",
   "execution_count": 204,
   "id": "bc322b0f-31b0-4ee8-93e2-67df54500bf2",
   "metadata": {},
   "outputs": [
    {
     "data": {
      "text/html": [
       "<div>\n",
       "<style scoped>\n",
       "    .dataframe tbody tr th:only-of-type {\n",
       "        vertical-align: middle;\n",
       "    }\n",
       "\n",
       "    .dataframe tbody tr th {\n",
       "        vertical-align: top;\n",
       "    }\n",
       "\n",
       "    .dataframe thead th {\n",
       "        text-align: right;\n",
       "    }\n",
       "</style>\n",
       "<table border=\"1\" class=\"dataframe\">\n",
       "  <thead>\n",
       "    <tr style=\"text-align: right;\">\n",
       "      <th></th>\n",
       "      <th>order_id</th>\n",
       "      <th>order_purchase_date</th>\n",
       "      <th>order_reached_date</th>\n",
       "      <th>order_estimate_delivery_date</th>\n",
       "      <th>product_id</th>\n",
       "      <th>product_category_name</th>\n",
       "      <th>price</th>\n",
       "      <th>freight_value</th>\n",
       "      <th>payment_type</th>\n",
       "      <th>payment_installments</th>\n",
       "      <th>payment_value</th>\n",
       "      <th>review_score</th>\n",
       "      <th>customer_unique_id</th>\n",
       "      <th>delivery_delay</th>\n",
       "    </tr>\n",
       "  </thead>\n",
       "  <tbody>\n",
       "    <tr>\n",
       "      <th>0</th>\n",
       "      <td>00010242fe8c5a6d1ba2dd792cb16214</td>\n",
       "      <td>2017-09-13</td>\n",
       "      <td>2017-09-20</td>\n",
       "      <td>2017-09-29</td>\n",
       "      <td>4244733e06e7ecb4970a6e2683c13e61</td>\n",
       "      <td>cool_stuff</td>\n",
       "      <td>58.90</td>\n",
       "      <td>13.29</td>\n",
       "      <td>credit_card</td>\n",
       "      <td>2.0</td>\n",
       "      <td>72.19</td>\n",
       "      <td>5.0</td>\n",
       "      <td>871766c5855e863f6eccc05f988b23cb</td>\n",
       "      <td>-9</td>\n",
       "    </tr>\n",
       "    <tr>\n",
       "      <th>1</th>\n",
       "      <td>00018f77f2f0320c557190d7a144bdd3</td>\n",
       "      <td>2017-04-26</td>\n",
       "      <td>2017-05-12</td>\n",
       "      <td>2017-05-15</td>\n",
       "      <td>e5f2d52b802189ee658865ca93d83a8f</td>\n",
       "      <td>pet_shop</td>\n",
       "      <td>239.90</td>\n",
       "      <td>19.93</td>\n",
       "      <td>credit_card</td>\n",
       "      <td>3.0</td>\n",
       "      <td>259.83</td>\n",
       "      <td>4.0</td>\n",
       "      <td>eb28e67c4c0b83846050ddfb8a35d051</td>\n",
       "      <td>-3</td>\n",
       "    </tr>\n",
       "    <tr>\n",
       "      <th>2</th>\n",
       "      <td>000229ec398224ef6ca0657da4fc703e</td>\n",
       "      <td>2018-01-14</td>\n",
       "      <td>2018-01-22</td>\n",
       "      <td>2018-02-05</td>\n",
       "      <td>c777355d18b72b67abbeef9df44fd0fd</td>\n",
       "      <td>moveis_decoracao</td>\n",
       "      <td>199.00</td>\n",
       "      <td>17.87</td>\n",
       "      <td>credit_card</td>\n",
       "      <td>5.0</td>\n",
       "      <td>216.87</td>\n",
       "      <td>5.0</td>\n",
       "      <td>3818d81c6709e39d06b2738a8d3a2474</td>\n",
       "      <td>-14</td>\n",
       "    </tr>\n",
       "    <tr>\n",
       "      <th>3</th>\n",
       "      <td>00024acbcdf0a6daa1e931b038114c75</td>\n",
       "      <td>2018-08-08</td>\n",
       "      <td>2018-08-14</td>\n",
       "      <td>2018-08-20</td>\n",
       "      <td>7634da152a4610f1595efa32f14722fc</td>\n",
       "      <td>perfumaria</td>\n",
       "      <td>12.99</td>\n",
       "      <td>12.79</td>\n",
       "      <td>credit_card</td>\n",
       "      <td>2.0</td>\n",
       "      <td>25.78</td>\n",
       "      <td>4.0</td>\n",
       "      <td>af861d436cfc08b2c2ddefd0ba074622</td>\n",
       "      <td>-6</td>\n",
       "    </tr>\n",
       "    <tr>\n",
       "      <th>4</th>\n",
       "      <td>00042b26cf59d7ce69dfabb4e55b4fd9</td>\n",
       "      <td>2017-02-04</td>\n",
       "      <td>2017-03-01</td>\n",
       "      <td>2017-03-17</td>\n",
       "      <td>ac6c3623068f30de03045865e4e10089</td>\n",
       "      <td>ferramentas_jardim</td>\n",
       "      <td>199.90</td>\n",
       "      <td>18.14</td>\n",
       "      <td>credit_card</td>\n",
       "      <td>3.0</td>\n",
       "      <td>218.04</td>\n",
       "      <td>5.0</td>\n",
       "      <td>64b576fb70d441e8f1b2d7d446e483c5</td>\n",
       "      <td>-16</td>\n",
       "    </tr>\n",
       "  </tbody>\n",
       "</table>\n",
       "</div>"
      ],
      "text/plain": [
       "                           order_id order_purchase_date order_reached_date  \\\n",
       "0  00010242fe8c5a6d1ba2dd792cb16214          2017-09-13         2017-09-20   \n",
       "1  00018f77f2f0320c557190d7a144bdd3          2017-04-26         2017-05-12   \n",
       "2  000229ec398224ef6ca0657da4fc703e          2018-01-14         2018-01-22   \n",
       "3  00024acbcdf0a6daa1e931b038114c75          2018-08-08         2018-08-14   \n",
       "4  00042b26cf59d7ce69dfabb4e55b4fd9          2017-02-04         2017-03-01   \n",
       "\n",
       "  order_estimate_delivery_date                        product_id  \\\n",
       "0                   2017-09-29  4244733e06e7ecb4970a6e2683c13e61   \n",
       "1                   2017-05-15  e5f2d52b802189ee658865ca93d83a8f   \n",
       "2                   2018-02-05  c777355d18b72b67abbeef9df44fd0fd   \n",
       "3                   2018-08-20  7634da152a4610f1595efa32f14722fc   \n",
       "4                   2017-03-17  ac6c3623068f30de03045865e4e10089   \n",
       "\n",
       "  product_category_name   price  freight_value payment_type  \\\n",
       "0            cool_stuff   58.90          13.29  credit_card   \n",
       "1              pet_shop  239.90          19.93  credit_card   \n",
       "2      moveis_decoracao  199.00          17.87  credit_card   \n",
       "3            perfumaria   12.99          12.79  credit_card   \n",
       "4    ferramentas_jardim  199.90          18.14  credit_card   \n",
       "\n",
       "   payment_installments  payment_value  review_score  \\\n",
       "0                   2.0          72.19           5.0   \n",
       "1                   3.0         259.83           4.0   \n",
       "2                   5.0         216.87           5.0   \n",
       "3                   2.0          25.78           4.0   \n",
       "4                   3.0         218.04           5.0   \n",
       "\n",
       "                 customer_unique_id  delivery_delay  \n",
       "0  871766c5855e863f6eccc05f988b23cb              -9  \n",
       "1  eb28e67c4c0b83846050ddfb8a35d051              -3  \n",
       "2  3818d81c6709e39d06b2738a8d3a2474             -14  \n",
       "3  af861d436cfc08b2c2ddefd0ba074622              -6  \n",
       "4  64b576fb70d441e8f1b2d7d446e483c5             -16  "
      ]
     },
     "execution_count": 204,
     "metadata": {},
     "output_type": "execute_result"
    }
   ],
   "source": [
    "dataset.head()"
   ]
  },
  {
   "cell_type": "code",
   "execution_count": 194,
   "id": "f087ce24-5d62-43ef-84e1-9fa65dfdf42a",
   "metadata": {},
   "outputs": [],
   "source": [
    "max_date = dataset['order_purchase_date'].max()\n"
   ]
  },
  {
   "cell_type": "code",
   "execution_count": 195,
   "id": "bb685bf7-6421-49fe-85b8-26401ce56149",
   "metadata": {},
   "outputs": [],
   "source": [
    "cutoff_date = max_date - pd.Timedelta(days=90)\n"
   ]
  },
  {
   "cell_type": "code",
   "execution_count": 196,
   "id": "312a24a9-af69-4f24-9e23-ede53503a1c7",
   "metadata": {},
   "outputs": [],
   "source": [
    "last_purchase = dataset.groupby('customer_unique_id')['order_purchase_date'].max().reset_index(name='last_purchase')\n"
   ]
  },
  {
   "cell_type": "code",
   "execution_count": 197,
   "id": "1de84671-7687-4586-a956-d07d0c3cf64b",
   "metadata": {},
   "outputs": [],
   "source": [
    "last_purchase['recency_days'] = (max_date - last_purchase['last_purchase']).dt.days\n",
    "\n"
   ]
  },
  {
   "cell_type": "code",
   "execution_count": null,
   "id": "d07dc053-e81f-4553-be34-c3d95cc1e5ff",
   "metadata": {},
   "outputs": [],
   "source": []
  },
  {
   "cell_type": "markdown",
   "id": "b6a15be4-d5a0-438b-aada-410f7280cb11",
   "metadata": {},
   "source": [
    "# IS_CHURN"
   ]
  },
  {
   "cell_type": "code",
   "execution_count": 198,
   "id": "ae2633d1-efe0-4ad7-935b-402e663e2299",
   "metadata": {},
   "outputs": [],
   "source": [
    "\n",
    "last_purchase['is_churn'] = last_purchase['last_purchase'] < cutoff_date\n"
   ]
  },
  {
   "cell_type": "code",
   "execution_count": 185,
   "id": "be305f47-ce7f-471e-86ef-cefb8c17aa87",
   "metadata": {},
   "outputs": [
    {
     "data": {
      "text/html": [
       "<div>\n",
       "<style scoped>\n",
       "    .dataframe tbody tr th:only-of-type {\n",
       "        vertical-align: middle;\n",
       "    }\n",
       "\n",
       "    .dataframe tbody tr th {\n",
       "        vertical-align: top;\n",
       "    }\n",
       "\n",
       "    .dataframe thead th {\n",
       "        text-align: right;\n",
       "    }\n",
       "</style>\n",
       "<table border=\"1\" class=\"dataframe\">\n",
       "  <thead>\n",
       "    <tr style=\"text-align: right;\">\n",
       "      <th></th>\n",
       "      <th>order_id</th>\n",
       "      <th>order_purchase_date</th>\n",
       "      <th>order_reached_date</th>\n",
       "      <th>order_estimate_delivery_date</th>\n",
       "      <th>product_id</th>\n",
       "      <th>product_category_name</th>\n",
       "      <th>price</th>\n",
       "      <th>freight_value</th>\n",
       "      <th>payment_type</th>\n",
       "      <th>payment_installments</th>\n",
       "      <th>payment_value</th>\n",
       "      <th>review_score</th>\n",
       "      <th>customer_unique_id</th>\n",
       "      <th>delivery_delay</th>\n",
       "    </tr>\n",
       "  </thead>\n",
       "  <tbody>\n",
       "    <tr>\n",
       "      <th>0</th>\n",
       "      <td>00010242fe8c5a6d1ba2dd792cb16214</td>\n",
       "      <td>2017-09-13</td>\n",
       "      <td>2017-09-20</td>\n",
       "      <td>2017-09-29</td>\n",
       "      <td>4244733e06e7ecb4970a6e2683c13e61</td>\n",
       "      <td>cool_stuff</td>\n",
       "      <td>58.9</td>\n",
       "      <td>13.29</td>\n",
       "      <td>credit_card</td>\n",
       "      <td>2.0</td>\n",
       "      <td>72.19</td>\n",
       "      <td>5.0</td>\n",
       "      <td>871766c5855e863f6eccc05f988b23cb</td>\n",
       "      <td>-9</td>\n",
       "    </tr>\n",
       "  </tbody>\n",
       "</table>\n",
       "</div>"
      ],
      "text/plain": [
       "                           order_id order_purchase_date order_reached_date  \\\n",
       "0  00010242fe8c5a6d1ba2dd792cb16214          2017-09-13         2017-09-20   \n",
       "\n",
       "  order_estimate_delivery_date                        product_id  \\\n",
       "0                   2017-09-29  4244733e06e7ecb4970a6e2683c13e61   \n",
       "\n",
       "  product_category_name  price  freight_value payment_type  \\\n",
       "0            cool_stuff   58.9          13.29  credit_card   \n",
       "\n",
       "   payment_installments  payment_value  review_score  \\\n",
       "0                   2.0          72.19           5.0   \n",
       "\n",
       "                 customer_unique_id  delivery_delay  \n",
       "0  871766c5855e863f6eccc05f988b23cb              -9  "
      ]
     },
     "execution_count": 185,
     "metadata": {},
     "output_type": "execute_result"
    }
   ],
   "source": [
    "dataset.head(1)"
   ]
  },
  {
   "cell_type": "markdown",
   "id": "35bda351-395c-4f2a-a13e-c740a1920f80",
   "metadata": {},
   "source": [
    " # recency_days"
   ]
  },
  {
   "cell_type": "code",
   "execution_count": 186,
   "id": "1851eb02-fbca-478e-941f-646035f0cc50",
   "metadata": {},
   "outputs": [],
   "source": [
    "last_purchase = dataset.groupby('customer_unique_id')['order_purchase_date'].max().reset_index()\n",
    "last_purchase.rename(columns={'order_purchase_date': 'last_purchase_date'}, inplace=True)\n",
    "\n",
    "# Calculate recency_days = (max_date - last_purchase_date)\n",
    "last_purchase['recency_days'] = (max_date - last_purchase['last_purchase_date']).dt.days"
   ]
  },
  {
   "cell_type": "markdown",
   "id": "0dc0823c-132a-4af9-bfac-d0ee170755d7",
   "metadata": {},
   "source": [
    "# TOP CATEGORY"
   ]
  },
  {
   "cell_type": "code",
   "execution_count": 187,
   "id": "fb33d42d-73d4-446b-a46c-b6a318f3fe38",
   "metadata": {},
   "outputs": [],
   "source": [
    "\n",
    "\n",
    "top_category = dataset.groupby(['customer_unique_id', 'product_category_name'])['order_id'].count().reset_index()\n",
    "top_category = top_category.sort_values(['customer_unique_id', 'order_id'], ascending=[True, False])\n",
    "top_category = top_category.drop_duplicates('customer_unique_id')  # keep the top one\n"
   ]
  },
  {
   "cell_type": "markdown",
   "id": "a01f09b8-f83b-40bc-a4d1-2ed51b95b59a",
   "metadata": {},
   "source": [
    "# ORDER FREQUENCY"
   ]
  },
  {
   "cell_type": "code",
   "execution_count": 188,
   "id": "2c51f24d-6402-4916-8125-92da8c35c6f3",
   "metadata": {},
   "outputs": [],
   "source": [
    "order_freq = dataset.groupby('customer_unique_id')['order_id'].count().reset_index(name='order_count')\n"
   ]
  },
  {
   "cell_type": "markdown",
   "id": "10d34826-3210-4da9-857f-9809076eb5dc",
   "metadata": {},
   "source": [
    "# TOTAL PRODUCTS"
   ]
  },
  {
   "cell_type": "code",
   "execution_count": 189,
   "id": "a0d9d89f-a6ab-4e6b-9dba-9a1e4d8b1864",
   "metadata": {},
   "outputs": [],
   "source": [
    "total_products = dataset.groupby('customer_unique_id')['product_id'].count().reset_index(name='total_product')"
   ]
  },
  {
   "cell_type": "markdown",
   "id": "f96fe98b-8b30-4663-92e9-1fe62e221b3e",
   "metadata": {},
   "source": [
    " # TENURE – how long they’ve been a customer"
   ]
  },
  {
   "cell_type": "code",
   "execution_count": null,
   "id": "bf32e06a-efaa-4773-80c7-74725c8ecdfd",
   "metadata": {},
   "outputs": [],
   "source": []
  },
  {
   "cell_type": "code",
   "execution_count": 190,
   "id": "9f08d504-6569-4f60-b352-81deaec7b725",
   "metadata": {},
   "outputs": [],
   "source": [
    "tenure = dataset.groupby('customer_unique_id')['order_purchase_date'].min().reset_index(name='first_purchase_date')\n"
   ]
  },
  {
   "cell_type": "code",
   "execution_count": 191,
   "id": "57a5cd81-34aa-4f0f-a615-e2642e8cef5e",
   "metadata": {},
   "outputs": [],
   "source": [
    "tenure['tenure_days'] = (max_date - tenure['first_purchase_date']).dt.days\n"
   ]
  },
  {
   "cell_type": "code",
   "execution_count": 192,
   "id": "991ed882-e5d7-4a99-bca3-9e15d4dff3bf",
   "metadata": {},
   "outputs": [
    {
     "data": {
      "text/html": [
       "<div>\n",
       "<style scoped>\n",
       "    .dataframe tbody tr th:only-of-type {\n",
       "        vertical-align: middle;\n",
       "    }\n",
       "\n",
       "    .dataframe tbody tr th {\n",
       "        vertical-align: top;\n",
       "    }\n",
       "\n",
       "    .dataframe thead th {\n",
       "        text-align: right;\n",
       "    }\n",
       "</style>\n",
       "<table border=\"1\" class=\"dataframe\">\n",
       "  <thead>\n",
       "    <tr style=\"text-align: right;\">\n",
       "      <th></th>\n",
       "      <th>order_id</th>\n",
       "      <th>order_purchase_date</th>\n",
       "      <th>order_reached_date</th>\n",
       "      <th>order_estimate_delivery_date</th>\n",
       "      <th>product_id</th>\n",
       "      <th>product_category_name</th>\n",
       "      <th>price</th>\n",
       "      <th>freight_value</th>\n",
       "      <th>payment_type</th>\n",
       "      <th>payment_installments</th>\n",
       "      <th>payment_value</th>\n",
       "      <th>review_score</th>\n",
       "      <th>customer_unique_id</th>\n",
       "      <th>delivery_delay</th>\n",
       "    </tr>\n",
       "  </thead>\n",
       "  <tbody>\n",
       "    <tr>\n",
       "      <th>0</th>\n",
       "      <td>00010242fe8c5a6d1ba2dd792cb16214</td>\n",
       "      <td>2017-09-13</td>\n",
       "      <td>2017-09-20</td>\n",
       "      <td>2017-09-29</td>\n",
       "      <td>4244733e06e7ecb4970a6e2683c13e61</td>\n",
       "      <td>cool_stuff</td>\n",
       "      <td>58.9</td>\n",
       "      <td>13.29</td>\n",
       "      <td>credit_card</td>\n",
       "      <td>2.0</td>\n",
       "      <td>72.19</td>\n",
       "      <td>5.0</td>\n",
       "      <td>871766c5855e863f6eccc05f988b23cb</td>\n",
       "      <td>-9</td>\n",
       "    </tr>\n",
       "    <tr>\n",
       "      <th>1</th>\n",
       "      <td>00018f77f2f0320c557190d7a144bdd3</td>\n",
       "      <td>2017-04-26</td>\n",
       "      <td>2017-05-12</td>\n",
       "      <td>2017-05-15</td>\n",
       "      <td>e5f2d52b802189ee658865ca93d83a8f</td>\n",
       "      <td>pet_shop</td>\n",
       "      <td>239.9</td>\n",
       "      <td>19.93</td>\n",
       "      <td>credit_card</td>\n",
       "      <td>3.0</td>\n",
       "      <td>259.83</td>\n",
       "      <td>4.0</td>\n",
       "      <td>eb28e67c4c0b83846050ddfb8a35d051</td>\n",
       "      <td>-3</td>\n",
       "    </tr>\n",
       "    <tr>\n",
       "      <th>2</th>\n",
       "      <td>000229ec398224ef6ca0657da4fc703e</td>\n",
       "      <td>2018-01-14</td>\n",
       "      <td>2018-01-22</td>\n",
       "      <td>2018-02-05</td>\n",
       "      <td>c777355d18b72b67abbeef9df44fd0fd</td>\n",
       "      <td>moveis_decoracao</td>\n",
       "      <td>199.0</td>\n",
       "      <td>17.87</td>\n",
       "      <td>credit_card</td>\n",
       "      <td>5.0</td>\n",
       "      <td>216.87</td>\n",
       "      <td>5.0</td>\n",
       "      <td>3818d81c6709e39d06b2738a8d3a2474</td>\n",
       "      <td>-14</td>\n",
       "    </tr>\n",
       "  </tbody>\n",
       "</table>\n",
       "</div>"
      ],
      "text/plain": [
       "                           order_id order_purchase_date order_reached_date  \\\n",
       "0  00010242fe8c5a6d1ba2dd792cb16214          2017-09-13         2017-09-20   \n",
       "1  00018f77f2f0320c557190d7a144bdd3          2017-04-26         2017-05-12   \n",
       "2  000229ec398224ef6ca0657da4fc703e          2018-01-14         2018-01-22   \n",
       "\n",
       "  order_estimate_delivery_date                        product_id  \\\n",
       "0                   2017-09-29  4244733e06e7ecb4970a6e2683c13e61   \n",
       "1                   2017-05-15  e5f2d52b802189ee658865ca93d83a8f   \n",
       "2                   2018-02-05  c777355d18b72b67abbeef9df44fd0fd   \n",
       "\n",
       "  product_category_name  price  freight_value payment_type  \\\n",
       "0            cool_stuff   58.9          13.29  credit_card   \n",
       "1              pet_shop  239.9          19.93  credit_card   \n",
       "2      moveis_decoracao  199.0          17.87  credit_card   \n",
       "\n",
       "   payment_installments  payment_value  review_score  \\\n",
       "0                   2.0          72.19           5.0   \n",
       "1                   3.0         259.83           4.0   \n",
       "2                   5.0         216.87           5.0   \n",
       "\n",
       "                 customer_unique_id  delivery_delay  \n",
       "0  871766c5855e863f6eccc05f988b23cb              -9  \n",
       "1  eb28e67c4c0b83846050ddfb8a35d051              -3  \n",
       "2  3818d81c6709e39d06b2738a8d3a2474             -14  "
      ]
     },
     "execution_count": 192,
     "metadata": {},
     "output_type": "execute_result"
    }
   ],
   "source": [
    "dataset.head(3)"
   ]
  },
  {
   "cell_type": "markdown",
   "id": "ca1c7898-bbc7-421f-8519-0c2826c9d126",
   "metadata": {},
   "source": [
    "# COMBINE ALL FEATURES"
   ]
  },
  {
   "cell_type": "code",
   "execution_count": 205,
   "id": "d1c638ab-eaa8-4834-9ec6-0a7c19706bc4",
   "metadata": {},
   "outputs": [],
   "source": [
    "\n",
    "from functools import reduce\n",
    "\n",
    "new_dataset = [avg_review, avg_delay, avg_freight, avg_installments, last_purchase, top_category, order_freq, total_products,tenure]\n",
    "features = reduce(lambda left, right: pd.merge(left, right, on='customer_unique_id', how='left'), new_dataset)\n",
    "\n",
    "# Finally, add target\n",
    "features = features.merge(last_purchase[['customer_unique_id', 'is_churn']], on='customer_unique_id', how='left')\n"
   ]
  },
  {
   "cell_type": "code",
   "execution_count": 206,
   "id": "33ff2cd9-2b36-4d19-9d82-59b42b89fe2c",
   "metadata": {},
   "outputs": [
    {
     "data": {
      "text/html": [
       "<div>\n",
       "<style scoped>\n",
       "    .dataframe tbody tr th:only-of-type {\n",
       "        vertical-align: middle;\n",
       "    }\n",
       "\n",
       "    .dataframe tbody tr th {\n",
       "        vertical-align: top;\n",
       "    }\n",
       "\n",
       "    .dataframe thead th {\n",
       "        text-align: right;\n",
       "    }\n",
       "</style>\n",
       "<table border=\"1\" class=\"dataframe\">\n",
       "  <thead>\n",
       "    <tr style=\"text-align: right;\">\n",
       "      <th></th>\n",
       "      <th>customer_unique_id</th>\n",
       "      <th>avg_review_score</th>\n",
       "      <th>avg_delivery_delay</th>\n",
       "      <th>avg_freight</th>\n",
       "      <th>avg_payment</th>\n",
       "      <th>last_purchase</th>\n",
       "      <th>recency_days</th>\n",
       "      <th>is_churn_x</th>\n",
       "      <th>product_category_name</th>\n",
       "      <th>order_id</th>\n",
       "      <th>order_count</th>\n",
       "      <th>total_product</th>\n",
       "      <th>first_purchase_date</th>\n",
       "      <th>tenure_days</th>\n",
       "      <th>is_churn_y</th>\n",
       "    </tr>\n",
       "  </thead>\n",
       "  <tbody>\n",
       "    <tr>\n",
       "      <th>0</th>\n",
       "      <td>0000366f3b9a7992bf8c76cfdf3221e2</td>\n",
       "      <td>5.0</td>\n",
       "      <td>-5.0</td>\n",
       "      <td>12.0</td>\n",
       "      <td>8.0</td>\n",
       "      <td>2018-05-10</td>\n",
       "      <td>111</td>\n",
       "      <td>True</td>\n",
       "      <td>cama_mesa_banho</td>\n",
       "      <td>1</td>\n",
       "      <td>1</td>\n",
       "      <td>1</td>\n",
       "      <td>2018-05-10</td>\n",
       "      <td>111</td>\n",
       "      <td>True</td>\n",
       "    </tr>\n",
       "  </tbody>\n",
       "</table>\n",
       "</div>"
      ],
      "text/plain": [
       "                 customer_unique_id  avg_review_score  avg_delivery_delay  \\\n",
       "0  0000366f3b9a7992bf8c76cfdf3221e2               5.0                -5.0   \n",
       "\n",
       "   avg_freight  avg_payment last_purchase  recency_days  is_churn_x  \\\n",
       "0         12.0          8.0    2018-05-10           111        True   \n",
       "\n",
       "  product_category_name  order_id  order_count  total_product  \\\n",
       "0       cama_mesa_banho         1            1              1   \n",
       "\n",
       "  first_purchase_date  tenure_days  is_churn_y  \n",
       "0          2018-05-10          111        True  "
      ]
     },
     "execution_count": 206,
     "metadata": {},
     "output_type": "execute_result"
    }
   ],
   "source": [
    "features.head(1)"
   ]
  },
  {
   "cell_type": "code",
   "execution_count": 207,
   "id": "9c553f68-7d9c-48ae-87f6-26d1c498fd50",
   "metadata": {},
   "outputs": [
    {
     "data": {
      "text/plain": [
       "avg_delivery_delay\n",
       "-14.000000    6743\n",
       "-13.000000    5646\n",
       "-15.000000    5076\n",
       "-7.000000     4624\n",
       "-8.000000     4599\n",
       "              ... \n",
       " 2.600000        1\n",
       " 5.600000        1\n",
       "-3.200000        1\n",
       "-26.571429       1\n",
       "-15.285714       1\n",
       "Name: count, Length: 478, dtype: int64"
      ]
     },
     "execution_count": 207,
     "metadata": {},
     "output_type": "execute_result"
    }
   ],
   "source": [
    "features['avg_delivery_delay'].value_counts()"
   ]
  },
  {
   "cell_type": "code",
   "execution_count": 208,
   "id": "1f8165cf-2714-4e5d-83db-93f807c83514",
   "metadata": {},
   "outputs": [],
   "source": [
    "#features['is_churn'].value_counts()"
   ]
  },
  {
   "cell_type": "code",
   "execution_count": 209,
   "id": "b4568f5a-86c1-4f84-b74f-951af7b15336",
   "metadata": {},
   "outputs": [
    {
     "data": {
      "text/plain": [
       "is_churn_y\n",
       "True     74827\n",
       "False    18514\n",
       "Name: count, dtype: int64"
      ]
     },
     "execution_count": 209,
     "metadata": {},
     "output_type": "execute_result"
    }
   ],
   "source": [
    "features['is_churn_y'].value_counts()"
   ]
  },
  {
   "cell_type": "code",
   "execution_count": 210,
   "id": "e5e7e810-ca61-46bf-ab99-d17f36fbeeb9",
   "metadata": {},
   "outputs": [],
   "source": [
    "#(features['is_churn_x'] == features['is_churn_y']).all()\n"
   ]
  },
  {
   "cell_type": "code",
   "execution_count": 211,
   "id": "398a1434-06cf-4dba-9112-14d75ab4d28d",
   "metadata": {},
   "outputs": [],
   "source": [
    "features.drop(columns='is_churn_y', inplace=True) "
   ]
  },
  {
   "cell_type": "code",
   "execution_count": null,
   "id": "d2e29450-608c-4553-aa9f-ac367d0af8c2",
   "metadata": {},
   "outputs": [],
   "source": []
  },
  {
   "cell_type": "code",
   "execution_count": 212,
   "id": "0e856ca1-6335-4392-a42d-bff877f2574b",
   "metadata": {},
   "outputs": [
    {
     "name": "stdout",
     "output_type": "stream",
     "text": [
      "<class 'pandas.core.frame.DataFrame'>\n",
      "RangeIndex: 93341 entries, 0 to 93340\n",
      "Data columns (total 14 columns):\n",
      " #   Column                 Non-Null Count  Dtype         \n",
      "---  ------                 --------------  -----         \n",
      " 0   customer_unique_id     93341 non-null  object        \n",
      " 1   avg_review_score       93341 non-null  float64       \n",
      " 2   avg_delivery_delay     93341 non-null  float64       \n",
      " 3   avg_freight            93341 non-null  float64       \n",
      " 4   avg_payment            93341 non-null  float64       \n",
      " 5   last_purchase          93341 non-null  datetime64[ns]\n",
      " 6   recency_days           93341 non-null  int64         \n",
      " 7   is_churn_x             93341 non-null  bool          \n",
      " 8   product_category_name  93341 non-null  object        \n",
      " 9   order_id               93341 non-null  int64         \n",
      " 10  order_count            93341 non-null  int64         \n",
      " 11  total_product          93341 non-null  int64         \n",
      " 12  first_purchase_date    93341 non-null  datetime64[ns]\n",
      " 13  tenure_days            93341 non-null  int64         \n",
      "dtypes: bool(1), datetime64[ns](2), float64(4), int64(5), object(2)\n",
      "memory usage: 9.3+ MB\n"
     ]
    }
   ],
   "source": [
    "features.info()"
   ]
  },
  {
   "cell_type": "code",
   "execution_count": 213,
   "id": "d5565588-0de9-4b70-abf2-0fd365d71056",
   "metadata": {},
   "outputs": [],
   "source": [
    "features.rename(columns={'is_churn_x': 'is_churn'}, inplace=True)\n"
   ]
  },
  {
   "cell_type": "code",
   "execution_count": 214,
   "id": "7fb6955b-1563-4382-a069-3f2c36465d36",
   "metadata": {},
   "outputs": [
    {
     "data": {
      "text/html": [
       "<div>\n",
       "<style scoped>\n",
       "    .dataframe tbody tr th:only-of-type {\n",
       "        vertical-align: middle;\n",
       "    }\n",
       "\n",
       "    .dataframe tbody tr th {\n",
       "        vertical-align: top;\n",
       "    }\n",
       "\n",
       "    .dataframe thead th {\n",
       "        text-align: right;\n",
       "    }\n",
       "</style>\n",
       "<table border=\"1\" class=\"dataframe\">\n",
       "  <thead>\n",
       "    <tr style=\"text-align: right;\">\n",
       "      <th></th>\n",
       "      <th>customer_unique_id</th>\n",
       "      <th>avg_review_score</th>\n",
       "      <th>avg_delivery_delay</th>\n",
       "      <th>avg_freight</th>\n",
       "      <th>avg_payment</th>\n",
       "      <th>last_purchase</th>\n",
       "      <th>recency_days</th>\n",
       "      <th>is_churn</th>\n",
       "      <th>product_category_name</th>\n",
       "      <th>order_id</th>\n",
       "      <th>order_count</th>\n",
       "      <th>total_product</th>\n",
       "      <th>first_purchase_date</th>\n",
       "      <th>tenure_days</th>\n",
       "    </tr>\n",
       "  </thead>\n",
       "  <tbody>\n",
       "    <tr>\n",
       "      <th>0</th>\n",
       "      <td>0000366f3b9a7992bf8c76cfdf3221e2</td>\n",
       "      <td>5.0</td>\n",
       "      <td>-5.0</td>\n",
       "      <td>12.0</td>\n",
       "      <td>8.0</td>\n",
       "      <td>2018-05-10</td>\n",
       "      <td>111</td>\n",
       "      <td>True</td>\n",
       "      <td>cama_mesa_banho</td>\n",
       "      <td>1</td>\n",
       "      <td>1</td>\n",
       "      <td>1</td>\n",
       "      <td>2018-05-10</td>\n",
       "      <td>111</td>\n",
       "    </tr>\n",
       "  </tbody>\n",
       "</table>\n",
       "</div>"
      ],
      "text/plain": [
       "                 customer_unique_id  avg_review_score  avg_delivery_delay  \\\n",
       "0  0000366f3b9a7992bf8c76cfdf3221e2               5.0                -5.0   \n",
       "\n",
       "   avg_freight  avg_payment last_purchase  recency_days  is_churn  \\\n",
       "0         12.0          8.0    2018-05-10           111      True   \n",
       "\n",
       "  product_category_name  order_id  order_count  total_product  \\\n",
       "0       cama_mesa_banho         1            1              1   \n",
       "\n",
       "  first_purchase_date  tenure_days  \n",
       "0          2018-05-10          111  "
      ]
     },
     "execution_count": 214,
     "metadata": {},
     "output_type": "execute_result"
    }
   ],
   "source": [
    "features.head(1)"
   ]
  },
  {
   "cell_type": "markdown",
   "id": "98519fd5-75a3-4826-8bec-dcfe07d12210",
   "metadata": {},
   "source": [
    "# ENCODING"
   ]
  },
  {
   "cell_type": "markdown",
   "id": "53d72a03-e782-4b28-a77d-b807cb5386e0",
   "metadata": {},
   "source": [
    "# handing categorical variable (encoding) "
   ]
  },
  {
   "cell_type": "code",
   "execution_count": 215,
   "id": "edd88326-6c1a-44b2-8bf5-653948174b65",
   "metadata": {},
   "outputs": [],
   "source": [
    "# features = pd.get_dummies(features, columns=['product_category_name'], drop_first=True)"
   ]
  },
  {
   "cell_type": "code",
   "execution_count": 216,
   "id": "7ab50eef-ae69-42eb-a953-efbd7b571b3b",
   "metadata": {},
   "outputs": [
    {
     "data": {
      "text/html": [
       "<div>\n",
       "<style scoped>\n",
       "    .dataframe tbody tr th:only-of-type {\n",
       "        vertical-align: middle;\n",
       "    }\n",
       "\n",
       "    .dataframe tbody tr th {\n",
       "        vertical-align: top;\n",
       "    }\n",
       "\n",
       "    .dataframe thead th {\n",
       "        text-align: right;\n",
       "    }\n",
       "</style>\n",
       "<table border=\"1\" class=\"dataframe\">\n",
       "  <thead>\n",
       "    <tr style=\"text-align: right;\">\n",
       "      <th></th>\n",
       "      <th>customer_unique_id</th>\n",
       "      <th>avg_review_score</th>\n",
       "      <th>avg_delivery_delay</th>\n",
       "      <th>avg_freight</th>\n",
       "      <th>avg_payment</th>\n",
       "      <th>last_purchase</th>\n",
       "      <th>recency_days</th>\n",
       "      <th>is_churn</th>\n",
       "      <th>product_category_name</th>\n",
       "      <th>order_id</th>\n",
       "      <th>order_count</th>\n",
       "      <th>total_product</th>\n",
       "      <th>first_purchase_date</th>\n",
       "      <th>tenure_days</th>\n",
       "    </tr>\n",
       "  </thead>\n",
       "  <tbody>\n",
       "    <tr>\n",
       "      <th>0</th>\n",
       "      <td>0000366f3b9a7992bf8c76cfdf3221e2</td>\n",
       "      <td>5.0</td>\n",
       "      <td>-5.0</td>\n",
       "      <td>12.0</td>\n",
       "      <td>8.0</td>\n",
       "      <td>2018-05-10</td>\n",
       "      <td>111</td>\n",
       "      <td>True</td>\n",
       "      <td>cama_mesa_banho</td>\n",
       "      <td>1</td>\n",
       "      <td>1</td>\n",
       "      <td>1</td>\n",
       "      <td>2018-05-10</td>\n",
       "      <td>111</td>\n",
       "    </tr>\n",
       "  </tbody>\n",
       "</table>\n",
       "</div>"
      ],
      "text/plain": [
       "                 customer_unique_id  avg_review_score  avg_delivery_delay  \\\n",
       "0  0000366f3b9a7992bf8c76cfdf3221e2               5.0                -5.0   \n",
       "\n",
       "   avg_freight  avg_payment last_purchase  recency_days  is_churn  \\\n",
       "0         12.0          8.0    2018-05-10           111      True   \n",
       "\n",
       "  product_category_name  order_id  order_count  total_product  \\\n",
       "0       cama_mesa_banho         1            1              1   \n",
       "\n",
       "  first_purchase_date  tenure_days  \n",
       "0          2018-05-10          111  "
      ]
     },
     "execution_count": 216,
     "metadata": {},
     "output_type": "execute_result"
    }
   ],
   "source": [
    "features.head(1)"
   ]
  },
  {
   "cell_type": "code",
   "execution_count": 219,
   "id": "c1e7099e-bbd5-4561-a8fd-ce60ada58a23",
   "metadata": {},
   "outputs": [
    {
     "name": "stdout",
     "output_type": "stream",
     "text": [
      "is_churn\n",
      "False    18514\n",
      "True     18514\n",
      "Name: count, dtype: int64\n"
     ]
    }
   ],
   "source": [
    "import pandas as pd\n",
    "from sklearn.utils import resample\n",
    "\n",
    "# Step 1: Separate classes\n",
    "df_majority = features[features['is_churn'] == 1]     # Class 1: 74,000+\n",
    "df_minority = features[features['is_churn'] == 0]     # Class 0: 18,000+\n",
    "\n",
    "# Step 2: Downsample class 1 to 18,000\n",
    "df_majority_downsampled = resample(\n",
    "    df_majority,\n",
    "    replace=False,            # Sample without replacement\n",
    "    n_samples=18514,          # Downsample to 18,000\n",
    "    random_state=42\n",
    ")\n",
    "\n",
    "# Step 3: Combine with class 0 (already 18,000)\n",
    "df_balanced = pd.concat([df_minority, df_majority_downsampled])\n",
    "\n",
    "# Step 4: Shuffle\n",
    "df_balanced = df_balanced.sample(frac=1, random_state=42).reset_index(drop=True)\n",
    "\n",
    "# Optional: Check balance\n",
    "print(df_balanced['is_churn'].value_counts())\n"
   ]
  },
  {
   "cell_type": "code",
   "execution_count": 220,
   "id": "362c7b8e-21cb-4c1d-8077-a7cacecfc673",
   "metadata": {},
   "outputs": [
    {
     "data": {
      "text/plain": [
       "is_churn\n",
       "False    18514\n",
       "True     18514\n",
       "Name: count, dtype: int64"
      ]
     },
     "execution_count": 220,
     "metadata": {},
     "output_type": "execute_result"
    }
   ],
   "source": [
    "df_balanced['is_churn'].value_counts()"
   ]
  },
  {
   "cell_type": "code",
   "execution_count": 221,
   "id": "0c4f5ea3-7631-4627-93ef-e2cd3b14d790",
   "metadata": {},
   "outputs": [],
   "source": [
    "df_balanced.drop([\"customer_unique_id\",\"product_category_name\",\"last_purchase\",\"first_purchase_date\"],axis=1,inplace=True)"
   ]
  },
  {
   "cell_type": "code",
   "execution_count": 222,
   "id": "faea44ed-5300-423c-ae2f-de6ef395ff3c",
   "metadata": {},
   "outputs": [
    {
     "data": {
      "text/html": [
       "<div>\n",
       "<style scoped>\n",
       "    .dataframe tbody tr th:only-of-type {\n",
       "        vertical-align: middle;\n",
       "    }\n",
       "\n",
       "    .dataframe tbody tr th {\n",
       "        vertical-align: top;\n",
       "    }\n",
       "\n",
       "    .dataframe thead th {\n",
       "        text-align: right;\n",
       "    }\n",
       "</style>\n",
       "<table border=\"1\" class=\"dataframe\">\n",
       "  <thead>\n",
       "    <tr style=\"text-align: right;\">\n",
       "      <th></th>\n",
       "      <th>avg_review_score</th>\n",
       "      <th>avg_delivery_delay</th>\n",
       "      <th>avg_freight</th>\n",
       "      <th>avg_payment</th>\n",
       "      <th>recency_days</th>\n",
       "      <th>is_churn</th>\n",
       "      <th>order_id</th>\n",
       "      <th>order_count</th>\n",
       "      <th>total_product</th>\n",
       "      <th>tenure_days</th>\n",
       "    </tr>\n",
       "  </thead>\n",
       "  <tbody>\n",
       "    <tr>\n",
       "      <th>0</th>\n",
       "      <td>3.0</td>\n",
       "      <td>-9.0</td>\n",
       "      <td>14.41</td>\n",
       "      <td>2.0</td>\n",
       "      <td>64</td>\n",
       "      <td>False</td>\n",
       "      <td>1</td>\n",
       "      <td>1</td>\n",
       "      <td>1</td>\n",
       "      <td>64</td>\n",
       "    </tr>\n",
       "  </tbody>\n",
       "</table>\n",
       "</div>"
      ],
      "text/plain": [
       "   avg_review_score  avg_delivery_delay  avg_freight  avg_payment  \\\n",
       "0               3.0                -9.0        14.41          2.0   \n",
       "\n",
       "   recency_days  is_churn  order_id  order_count  total_product  tenure_days  \n",
       "0            64     False         1            1              1           64  "
      ]
     },
     "execution_count": 222,
     "metadata": {},
     "output_type": "execute_result"
    }
   ],
   "source": [
    "df_balanced.head(1)"
   ]
  },
  {
   "cell_type": "code",
   "execution_count": 223,
   "id": "f049052f-47e5-4aa4-a96c-ae7916cf96f9",
   "metadata": {},
   "outputs": [],
   "source": [
    "# Assume you already created the target like this\n",
    "#df_balanced.drop('avg_review_score',axis=1,inplace=True)"
   ]
  },
  {
   "cell_type": "code",
   "execution_count": 224,
   "id": "fe887583-ae92-4f2c-b42f-b7c7bdf9d59e",
   "metadata": {},
   "outputs": [
    {
     "data": {
      "text/html": [
       "<div>\n",
       "<style scoped>\n",
       "    .dataframe tbody tr th:only-of-type {\n",
       "        vertical-align: middle;\n",
       "    }\n",
       "\n",
       "    .dataframe tbody tr th {\n",
       "        vertical-align: top;\n",
       "    }\n",
       "\n",
       "    .dataframe thead th {\n",
       "        text-align: right;\n",
       "    }\n",
       "</style>\n",
       "<table border=\"1\" class=\"dataframe\">\n",
       "  <thead>\n",
       "    <tr style=\"text-align: right;\">\n",
       "      <th></th>\n",
       "      <th>avg_review_score</th>\n",
       "      <th>avg_delivery_delay</th>\n",
       "      <th>avg_freight</th>\n",
       "      <th>avg_payment</th>\n",
       "      <th>recency_days</th>\n",
       "      <th>is_churn</th>\n",
       "      <th>order_id</th>\n",
       "      <th>order_count</th>\n",
       "      <th>total_product</th>\n",
       "      <th>tenure_days</th>\n",
       "    </tr>\n",
       "  </thead>\n",
       "  <tbody>\n",
       "    <tr>\n",
       "      <th>0</th>\n",
       "      <td>3.0</td>\n",
       "      <td>-9.0</td>\n",
       "      <td>14.41</td>\n",
       "      <td>2.0</td>\n",
       "      <td>64</td>\n",
       "      <td>False</td>\n",
       "      <td>1</td>\n",
       "      <td>1</td>\n",
       "      <td>1</td>\n",
       "      <td>64</td>\n",
       "    </tr>\n",
       "  </tbody>\n",
       "</table>\n",
       "</div>"
      ],
      "text/plain": [
       "   avg_review_score  avg_delivery_delay  avg_freight  avg_payment  \\\n",
       "0               3.0                -9.0        14.41          2.0   \n",
       "\n",
       "   recency_days  is_churn  order_id  order_count  total_product  tenure_days  \n",
       "0            64     False         1            1              1           64  "
      ]
     },
     "execution_count": 224,
     "metadata": {},
     "output_type": "execute_result"
    }
   ],
   "source": [
    "df_balanced.head(1)"
   ]
  },
  {
   "cell_type": "markdown",
   "id": "d11673ac-a9bb-4e4b-aa05-33476e08d2bd",
   "metadata": {},
   "source": [
    "# REMOVE OUTLIRES FOR MY FEATURES"
   ]
  },
  {
   "cell_type": "code",
   "execution_count": 225,
   "id": "772f4809-760c-46a5-aa53-cf926426f298",
   "metadata": {},
   "outputs": [],
   "source": [
    "def remove_outliers_iqr(features, column):\n",
    "    Q1 = df_balanced[column].quantile(0.25)\n",
    "    Q3 = df_balanced[column].quantile(0.75)\n",
    "    IQR = Q3 - Q1\n",
    "    lower = Q1 - 1.5 * IQR\n",
    "    upper = Q3 + 1.5 * IQR\n",
    "    return df_balanced[(df_balanced[column] >= lower) & (df_balanced[column] <= upper)]\n",
    "\n",
    "# Apply to each numeric column where outliers matter\n",
    "columns_to_check = ['avg_delivery_delay', 'avg_freight', 'avg_payment', 'recency_days', 'tenure_days']\n",
    "\n",
    "for col in columns_to_check:\n",
    "    df_balanced = remove_outliers_iqr(df_balanced, col)\n"
   ]
  },
  {
   "cell_type": "markdown",
   "id": "2c517284-e39b-4294-ae49-aa6672eeccde",
   "metadata": {},
   "source": [
    "# DATA VISUALION TO SEE OUTLIERS USING PLT AND SNS"
   ]
  },
  {
   "cell_type": "markdown",
   "id": "6d4affb0-bb71-4496-8756-e955d197febb",
   "metadata": {},
   "source": [
    "# avreage freight"
   ]
  },
  {
   "cell_type": "code",
   "execution_count": 226,
   "id": "09babccb-4b57-4f9f-94cb-3a4f3d754194",
   "metadata": {},
   "outputs": [
    {
     "data": {
      "image/png": "[encoded data removed]",
      "text/plain": [
       "<Figure size 400x300 with 1 Axes>"
      ]
     },
     "metadata": {},
     "output_type": "display_data"
    }
   ],
   "source": [
    "plt.figure(figsize=(4,3))\n",
    "sns.boxplot(x='avg_freight',data=df_balanced)\n",
    "plt.show()"
   ]
  },
  {
   "cell_type": "markdown",
   "id": "ad90c5f1-1d63-4e09-bd6d-c9399fbec68e",
   "metadata": {},
   "source": [
    "# average payment\n"
   ]
  },
  {
   "cell_type": "code",
   "execution_count": 227,
   "id": "84f9f7c1-a8a2-4473-997d-3240ec68b1ab",
   "metadata": {},
   "outputs": [
    {
     "data": {
      "image/png": "[encoded data removed]",
      "text/plain": [
       "<Figure size 400x300 with 1 Axes>"
      ]
     },
     "metadata": {},
     "output_type": "display_data"
    }
   ],
   "source": [
    "plt.figure(figsize=(4,3))\n",
    "sns.boxplot(x='avg_payment',data=df_balanced)\n",
    "plt.show()"
   ]
  },
  {
   "cell_type": "markdown",
   "id": "e7a339f6-ac11-4531-bb93-1004be84ac64",
   "metadata": {},
   "source": [
    "# average delivery_days"
   ]
  },
  {
   "cell_type": "code",
   "execution_count": 228,
   "id": "707e1aee-6eb2-4307-aade-82f2f878dce8",
   "metadata": {},
   "outputs": [
    {
     "data": {
      "image/png": "[encoded data removed]",
      "text/plain": [
       "<Figure size 400x300 with 1 Axes>"
      ]
     },
     "metadata": {},
     "output_type": "display_data"
    }
   ],
   "source": [
    "plt.figure(figsize=(4,3))\n",
    "sns.boxplot(x='avg_delivery_delay',data=df_balanced)\n",
    "plt.show()"
   ]
  },
  {
   "cell_type": "markdown",
   "id": "4667eb6b-8fc9-4f81-af10-b1a39f33be58",
   "metadata": {},
   "source": [
    "# recency days"
   ]
  },
  {
   "cell_type": "code",
   "execution_count": 229,
   "id": "a8b19457-413f-4c5c-8503-2b1b79e54a85",
   "metadata": {},
   "outputs": [
    {
     "data": {
      "image/png": "[encoded data removed]",
      "text/plain": [
       "<Figure size 400x300 with 1 Axes>"
      ]
     },
     "metadata": {},
     "output_type": "display_data"
    }
   ],
   "source": [
    "plt.figure(figsize=(4,3))\n",
    "sns.boxplot(x='recency_days',data =df_balanced)\n",
    "plt.show()"
   ]
  },
  {
   "cell_type": "code",
   "execution_count": 230,
   "id": "b685cae5-1e87-403a-8564-af6c25fa945f",
   "metadata": {},
   "outputs": [
    {
     "data": {
      "image/png": "[encoded data removed]",
      "text/plain": [
       "<Figure size 400x300 with 1 Axes>"
      ]
     },
     "metadata": {},
     "output_type": "display_data"
    }
   ],
   "source": [
    "plt.figure(figsize=(4,3))\n",
    "sns.boxplot(x='tenure_days',data=features)\n",
    "plt.show()"
   ]
  },
  {
   "cell_type": "code",
   "execution_count": 231,
   "id": "b3ffa102-2877-4715-a139-9389a2f29d6e",
   "metadata": {},
   "outputs": [
    {
     "data": {
      "text/html": [
       "<div>\n",
       "<style scoped>\n",
       "    .dataframe tbody tr th:only-of-type {\n",
       "        vertical-align: middle;\n",
       "    }\n",
       "\n",
       "    .dataframe tbody tr th {\n",
       "        vertical-align: top;\n",
       "    }\n",
       "\n",
       "    .dataframe thead th {\n",
       "        text-align: right;\n",
       "    }\n",
       "</style>\n",
       "<table border=\"1\" class=\"dataframe\">\n",
       "  <thead>\n",
       "    <tr style=\"text-align: right;\">\n",
       "      <th></th>\n",
       "      <th>avg_review_score</th>\n",
       "      <th>avg_delivery_delay</th>\n",
       "      <th>avg_freight</th>\n",
       "      <th>avg_payment</th>\n",
       "      <th>recency_days</th>\n",
       "      <th>is_churn</th>\n",
       "      <th>order_id</th>\n",
       "      <th>order_count</th>\n",
       "      <th>total_product</th>\n",
       "      <th>tenure_days</th>\n",
       "    </tr>\n",
       "  </thead>\n",
       "  <tbody>\n",
       "    <tr>\n",
       "      <th>0</th>\n",
       "      <td>3.0</td>\n",
       "      <td>-9.0</td>\n",
       "      <td>14.41</td>\n",
       "      <td>2.0</td>\n",
       "      <td>64</td>\n",
       "      <td>False</td>\n",
       "      <td>1</td>\n",
       "      <td>1</td>\n",
       "      <td>1</td>\n",
       "      <td>64</td>\n",
       "    </tr>\n",
       "  </tbody>\n",
       "</table>\n",
       "</div>"
      ],
      "text/plain": [
       "   avg_review_score  avg_delivery_delay  avg_freight  avg_payment  \\\n",
       "0               3.0                -9.0        14.41          2.0   \n",
       "\n",
       "   recency_days  is_churn  order_id  order_count  total_product  tenure_days  \n",
       "0            64     False         1            1              1           64  "
      ]
     },
     "execution_count": 231,
     "metadata": {},
     "output_type": "execute_result"
    }
   ],
   "source": [
    "df_balanced.head(1)"
   ]
  },
  {
   "cell_type": "code",
   "execution_count": 232,
   "id": "1dca8dc9-b850-4448-b706-76047528f4f8",
   "metadata": {},
   "outputs": [],
   "source": [
    "df_balanced.drop(\"total_product\",axis=1,inplace=True)"
   ]
  },
  {
   "cell_type": "code",
   "execution_count": 233,
   "id": "bf90441f-5858-4992-8d7a-f34599daf628",
   "metadata": {},
   "outputs": [
    {
     "data": {
      "text/html": [
       "<div>\n",
       "<style scoped>\n",
       "    .dataframe tbody tr th:only-of-type {\n",
       "        vertical-align: middle;\n",
       "    }\n",
       "\n",
       "    .dataframe tbody tr th {\n",
       "        vertical-align: top;\n",
       "    }\n",
       "\n",
       "    .dataframe thead th {\n",
       "        text-align: right;\n",
       "    }\n",
       "</style>\n",
       "<table border=\"1\" class=\"dataframe\">\n",
       "  <thead>\n",
       "    <tr style=\"text-align: right;\">\n",
       "      <th></th>\n",
       "      <th>avg_review_score</th>\n",
       "      <th>avg_delivery_delay</th>\n",
       "      <th>avg_freight</th>\n",
       "      <th>avg_payment</th>\n",
       "      <th>recency_days</th>\n",
       "      <th>is_churn</th>\n",
       "      <th>order_id</th>\n",
       "      <th>order_count</th>\n",
       "      <th>tenure_days</th>\n",
       "    </tr>\n",
       "  </thead>\n",
       "  <tbody>\n",
       "    <tr>\n",
       "      <th>0</th>\n",
       "      <td>3.0</td>\n",
       "      <td>-9.0</td>\n",
       "      <td>14.41</td>\n",
       "      <td>2.0</td>\n",
       "      <td>64</td>\n",
       "      <td>False</td>\n",
       "      <td>1</td>\n",
       "      <td>1</td>\n",
       "      <td>64</td>\n",
       "    </tr>\n",
       "  </tbody>\n",
       "</table>\n",
       "</div>"
      ],
      "text/plain": [
       "   avg_review_score  avg_delivery_delay  avg_freight  avg_payment  \\\n",
       "0               3.0                -9.0        14.41          2.0   \n",
       "\n",
       "   recency_days  is_churn  order_id  order_count  tenure_days  \n",
       "0            64     False         1            1           64  "
      ]
     },
     "execution_count": 233,
     "metadata": {},
     "output_type": "execute_result"
    }
   ],
   "source": [
    "df_balanced.head(1)"
   ]
  },
  {
   "cell_type": "code",
   "execution_count": 234,
   "id": "c6f778ce-f422-4523-b8b3-6f11d326edab",
   "metadata": {},
   "outputs": [],
   "source": [
    "# Assuming order_estimated_delivery_date and order_delivered_customer_date are datetime\n",
    "\n",
    "# # Proxy return: Late delivery AND poor review (review_score ≤ 2)\n",
    "# dataset['proxy_return'] = ((dataset['delivery_delay'] > 0) & (dataset['review_score'] <= 2)).astype(int)\n"
   ]
  },
  {
   "cell_type": "code",
   "execution_count": null,
   "id": "5244c628-12c2-4313-a2c6-18ce4a4d8df6",
   "metadata": {},
   "outputs": [],
   "source": []
  },
  {
   "cell_type": "markdown",
   "id": "894b52e3-e3d6-40ff-895e-ebd7a9f31aa4",
   "metadata": {},
   "source": [
    "# TRAIN / TEST SPLIT"
   ]
  },
  {
   "cell_type": "code",
   "execution_count": 235,
   "id": "ae089b5c-896e-4313-87ed-344ae501a49e",
   "metadata": {},
   "outputs": [
    {
     "data": {
      "text/html": [
       "<div>\n",
       "<style scoped>\n",
       "    .dataframe tbody tr th:only-of-type {\n",
       "        vertical-align: middle;\n",
       "    }\n",
       "\n",
       "    .dataframe tbody tr th {\n",
       "        vertical-align: top;\n",
       "    }\n",
       "\n",
       "    .dataframe thead th {\n",
       "        text-align: right;\n",
       "    }\n",
       "</style>\n",
       "<table border=\"1\" class=\"dataframe\">\n",
       "  <thead>\n",
       "    <tr style=\"text-align: right;\">\n",
       "      <th></th>\n",
       "      <th>avg_review_score</th>\n",
       "      <th>avg_delivery_delay</th>\n",
       "      <th>avg_freight</th>\n",
       "      <th>avg_payment</th>\n",
       "      <th>recency_days</th>\n",
       "      <th>is_churn</th>\n",
       "      <th>order_id</th>\n",
       "      <th>order_count</th>\n",
       "      <th>tenure_days</th>\n",
       "    </tr>\n",
       "  </thead>\n",
       "  <tbody>\n",
       "    <tr>\n",
       "      <th>0</th>\n",
       "      <td>3.0</td>\n",
       "      <td>-9.0</td>\n",
       "      <td>14.41</td>\n",
       "      <td>2.0</td>\n",
       "      <td>64</td>\n",
       "      <td>False</td>\n",
       "      <td>1</td>\n",
       "      <td>1</td>\n",
       "      <td>64</td>\n",
       "    </tr>\n",
       "  </tbody>\n",
       "</table>\n",
       "</div>"
      ],
      "text/plain": [
       "   avg_review_score  avg_delivery_delay  avg_freight  avg_payment  \\\n",
       "0               3.0                -9.0        14.41          2.0   \n",
       "\n",
       "   recency_days  is_churn  order_id  order_count  tenure_days  \n",
       "0            64     False         1            1           64  "
      ]
     },
     "execution_count": 235,
     "metadata": {},
     "output_type": "execute_result"
    }
   ],
   "source": [
    "df_balanced.head(1)"
   ]
  },
  {
   "cell_type": "code",
   "execution_count": 236,
   "id": "0fe8e4e0-73e0-4edd-8d44-61db64eddd62",
   "metadata": {},
   "outputs": [],
   "source": [
    "from sklearn.model_selection import train_test_split"
   ]
  },
  {
   "cell_type": "code",
   "execution_count": 237,
   "id": "56fe1b0e-adfc-40a9-93c1-10ba0d39c3d9",
   "metadata": {},
   "outputs": [],
   "source": [
    "leak_features = ['avg_review_score', 'avg_delivery_delay', 'order_id','recency_days']\n"
   ]
  },
  {
   "cell_type": "code",
   "execution_count": 238,
   "id": "d9daa6ef-de4e-45b1-8511-bca8a4ca6366",
   "metadata": {},
   "outputs": [],
   "source": [
    "X = df_balanced.drop(columns=leak_features + ['is_churn'])\n",
    "y = df_balanced['is_churn']"
   ]
  },
  {
   "cell_type": "code",
   "execution_count": 239,
   "id": "8d41cebf-a420-40e2-8bfd-c36ca66725b9",
   "metadata": {
    "scrolled": true
   },
   "outputs": [
    {
     "data": {
      "text/html": [
       "<div>\n",
       "<style scoped>\n",
       "    .dataframe tbody tr th:only-of-type {\n",
       "        vertical-align: middle;\n",
       "    }\n",
       "\n",
       "    .dataframe tbody tr th {\n",
       "        vertical-align: top;\n",
       "    }\n",
       "\n",
       "    .dataframe thead th {\n",
       "        text-align: right;\n",
       "    }\n",
       "</style>\n",
       "<table border=\"1\" class=\"dataframe\">\n",
       "  <thead>\n",
       "    <tr style=\"text-align: right;\">\n",
       "      <th></th>\n",
       "      <th>avg_freight</th>\n",
       "      <th>avg_payment</th>\n",
       "      <th>order_count</th>\n",
       "      <th>tenure_days</th>\n",
       "    </tr>\n",
       "  </thead>\n",
       "  <tbody>\n",
       "    <tr>\n",
       "      <th>0</th>\n",
       "      <td>14.41</td>\n",
       "      <td>2.0</td>\n",
       "      <td>1</td>\n",
       "      <td>64</td>\n",
       "    </tr>\n",
       "    <tr>\n",
       "      <th>2</th>\n",
       "      <td>17.45</td>\n",
       "      <td>3.0</td>\n",
       "      <td>1</td>\n",
       "      <td>27</td>\n",
       "    </tr>\n",
       "    <tr>\n",
       "      <th>3</th>\n",
       "      <td>15.46</td>\n",
       "      <td>3.5</td>\n",
       "      <td>4</td>\n",
       "      <td>257</td>\n",
       "    </tr>\n",
       "    <tr>\n",
       "      <th>5</th>\n",
       "      <td>10.96</td>\n",
       "      <td>1.0</td>\n",
       "      <td>1</td>\n",
       "      <td>567</td>\n",
       "    </tr>\n",
       "    <tr>\n",
       "      <th>6</th>\n",
       "      <td>15.30</td>\n",
       "      <td>3.0</td>\n",
       "      <td>1</td>\n",
       "      <td>361</td>\n",
       "    </tr>\n",
       "  </tbody>\n",
       "</table>\n",
       "</div>"
      ],
      "text/plain": [
       "   avg_freight  avg_payment  order_count  tenure_days\n",
       "0        14.41          2.0            1           64\n",
       "2        17.45          3.0            1           27\n",
       "3        15.46          3.5            4          257\n",
       "5        10.96          1.0            1          567\n",
       "6        15.30          3.0            1          361"
      ]
     },
     "execution_count": 239,
     "metadata": {},
     "output_type": "execute_result"
    }
   ],
   "source": [
    "X.head()"
   ]
  },
  {
   "cell_type": "code",
   "execution_count": null,
   "id": "c0fb1587-7080-4213-bb9c-1bcdc537ffca",
   "metadata": {},
   "outputs": [],
   "source": []
  },
  {
   "cell_type": "code",
   "execution_count": 240,
   "id": "a3c8d1cb-9608-420b-be70-ae637db31fce",
   "metadata": {},
   "outputs": [],
   "source": [
    "X_train, X_test, y_train, y_test = train_test_split(X,y,test_size = 0.2, random_state = 42, stratify = y)"
   ]
  },
  {
   "cell_type": "code",
   "execution_count": 241,
   "id": "b5496b04-eb4d-4139-8e4d-20c76ee487eb",
   "metadata": {},
   "outputs": [],
   "source": [
    "from imblearn.over_sampling import SMOTE\n",
    "\n",
    "smote = SMOTE(random_state=42)\n",
    "X_resampled, y_resampled = smote.fit_resample(X, y)\n"
   ]
  },
  {
   "cell_type": "code",
   "execution_count": 242,
   "id": "1d0f74d7-3601-403e-a032-7bc6442c44fc",
   "metadata": {},
   "outputs": [
    {
     "data": {
      "text/html": [
       "<div>\n",
       "<style scoped>\n",
       "    .dataframe tbody tr th:only-of-type {\n",
       "        vertical-align: middle;\n",
       "    }\n",
       "\n",
       "    .dataframe tbody tr th {\n",
       "        vertical-align: top;\n",
       "    }\n",
       "\n",
       "    .dataframe thead th {\n",
       "        text-align: right;\n",
       "    }\n",
       "</style>\n",
       "<table border=\"1\" class=\"dataframe\">\n",
       "  <thead>\n",
       "    <tr style=\"text-align: right;\">\n",
       "      <th></th>\n",
       "      <th>avg_review_score</th>\n",
       "      <th>avg_delivery_delay</th>\n",
       "      <th>avg_freight</th>\n",
       "      <th>avg_payment</th>\n",
       "      <th>recency_days</th>\n",
       "      <th>is_churn</th>\n",
       "      <th>order_id</th>\n",
       "      <th>order_count</th>\n",
       "      <th>tenure_days</th>\n",
       "    </tr>\n",
       "  </thead>\n",
       "  <tbody>\n",
       "    <tr>\n",
       "      <th>0</th>\n",
       "      <td>3.0</td>\n",
       "      <td>-9.0</td>\n",
       "      <td>14.41</td>\n",
       "      <td>2.0</td>\n",
       "      <td>64</td>\n",
       "      <td>False</td>\n",
       "      <td>1</td>\n",
       "      <td>1</td>\n",
       "      <td>64</td>\n",
       "    </tr>\n",
       "  </tbody>\n",
       "</table>\n",
       "</div>"
      ],
      "text/plain": [
       "   avg_review_score  avg_delivery_delay  avg_freight  avg_payment  \\\n",
       "0               3.0                -9.0        14.41          2.0   \n",
       "\n",
       "   recency_days  is_churn  order_id  order_count  tenure_days  \n",
       "0            64     False         1            1           64  "
      ]
     },
     "execution_count": 242,
     "metadata": {},
     "output_type": "execute_result"
    }
   ],
   "source": [
    "df_balanced.head(1)"
   ]
  },
  {
   "cell_type": "code",
   "execution_count": 243,
   "id": "37ebec70-f334-4a49-b95d-0bb022fd0010",
   "metadata": {},
   "outputs": [],
   "source": [
    "#df_balanced.drop([\"customer_unique_id\",\"product_category_name\",\"last_purchase\",\"first_purchase_date\"],axis=1,inplace=True)"
   ]
  },
  {
   "cell_type": "markdown",
   "id": "0215a003-9a28-4f2d-ace3-6dc490896872",
   "metadata": {},
   "source": [
    "# STANDARD NORMALIZATION"
   ]
  },
  {
   "cell_type": "code",
   "execution_count": 244,
   "id": "94e13dfa-0614-4470-a6eb-11d1469d4102",
   "metadata": {},
   "outputs": [],
   "source": [
    "from sklearn.preprocessing import StandardScaler"
   ]
  },
  {
   "cell_type": "code",
   "execution_count": 245,
   "id": "bd26f4ab-0fa8-4e60-83f1-9bfaf7914695",
   "metadata": {},
   "outputs": [],
   "source": [
    "scaler = StandardScaler()"
   ]
  },
  {
   "cell_type": "code",
   "execution_count": 246,
   "id": "3154ba33-c99b-4ab4-b323-bf3b71e8ca2d",
   "metadata": {},
   "outputs": [],
   "source": [
    "X_train_scaled = scaler.fit_transform(X_train)\n",
    "X_test_scaled =scaler.transform(X_test)"
   ]
  },
  {
   "cell_type": "code",
   "execution_count": 247,
   "id": "f252a35c-19d1-4589-b7a3-fdc8813bc70f",
   "metadata": {},
   "outputs": [],
   "source": [
    "from imblearn.under_sampling import RandomUnderSampler\n",
    "\n",
    "rus = RandomUnderSampler(random_state=42)\n",
    "X_resampled, y_resampled = rus.fit_resample(X, y)\n"
   ]
  },
  {
   "cell_type": "markdown",
   "id": "900609bf-a44d-4055-a787-621b8b46f15d",
   "metadata": {},
   "source": [
    "# TRAIN MACHINE LEARNING MODEL"
   ]
  },
  {
   "cell_type": "markdown",
   "id": "3251363c-c032-4aa0-b3ea-6d11dcbfd038",
   "metadata": {},
   "source": [
    "# 1) Logistic Regression"
   ]
  },
  {
   "cell_type": "code",
   "execution_count": 248,
   "id": "fbf4bf05-1b20-419a-a8f0-3d13871f9792",
   "metadata": {},
   "outputs": [
    {
     "data": {
      "text/html": [
       "<style>#sk-container-id-6 {\n",
       "  /* Definition of color scheme common for light and dark mode */\n",
       "  --sklearn-color-text: #000;\n",
       "  --sklearn-color-text-muted: #666;\n",
       "  --sklearn-color-line: gray;\n",
       "  /* Definition of color scheme for unfitted estimators */\n",
       "  --sklearn-color-unfitted-level-0: #fff5e6;\n",
       "  --sklearn-color-unfitted-level-1: #f6e4d2;\n",
       "  --sklearn-color-unfitted-level-2: #ffe0b3;\n",
       "  --sklearn-color-unfitted-level-3: chocolate;\n",
       "  /* Definition of color scheme for fitted estimators */\n",
       "  --sklearn-color-fitted-level-0: #f0f8ff;\n",
       "  --sklearn-color-fitted-level-1: #d4ebff;\n",
       "  --sklearn-color-fitted-level-2: #b3dbfd;\n",
       "  --sklearn-color-fitted-level-3: cornflowerblue;\n",
       "\n",
       "  /* Specific color for light theme */\n",
       "  --sklearn-color-text-on-default-background: var(--sg-text-color, var(--theme-code-foreground, var(--jp-content-font-color1, black)));\n",
       "  --sklearn-color-background: var(--sg-background-color, var(--theme-background, var(--jp-layout-color0, white)));\n",
       "  --sklearn-color-border-box: var(--sg-text-color, var(--theme-code-foreground, var(--jp-content-font-color1, black)));\n",
       "  --sklearn-color-icon: #696969;\n",
       "\n",
       "  @media (prefers-color-scheme: dark) {\n",
       "    /* Redefinition of color scheme for dark theme */\n",
       "    --sklearn-color-text-on-default-background: var(--sg-text-color, var(--theme-code-foreground, var(--jp-content-font-color1, white)));\n",
       "    --sklearn-color-background: var(--sg-background-color, var(--theme-background, var(--jp-layout-color0, #111)));\n",
       "    --sklearn-color-border-box: var(--sg-text-color, var(--theme-code-foreground, var(--jp-content-font-color1, white)));\n",
       "    --sklearn-color-icon: #878787;\n",
       "  }\n",
       "}\n",
       "\n",
       "#sk-container-id-6 {\n",
       "  color: var(--sklearn-color-text);\n",
       "}\n",
       "\n",
       "#sk-container-id-6 pre {\n",
       "  padding: 0;\n",
       "}\n",
       "\n",
       "#sk-container-id-6 input.sk-hidden--visually {\n",
       "  border: 0;\n",
       "  clip: rect(1px 1px 1px 1px);\n",
       "  clip: rect(1px, 1px, 1px, 1px);\n",
       "  height: 1px;\n",
       "  margin: -1px;\n",
       "  overflow: hidden;\n",
       "  padding: 0;\n",
       "  position: absolute;\n",
       "  width: 1px;\n",
       "}\n",
       "\n",
       "#sk-container-id-6 div.sk-dashed-wrapped {\n",
       "  border: 1px dashed var(--sklearn-color-line);\n",
       "  margin: 0 0.4em 0.5em 0.4em;\n",
       "  box-sizing: border-box;\n",
       "  padding-bottom: 0.4em;\n",
       "  background-color: var(--sklearn-color-background);\n",
       "}\n",
       "\n",
       "#sk-container-id-6 div.sk-container {\n",
       "  /* jupyter's `normalize.less` sets `[hidden] { display: none; }`\n",
       "     but bootstrap.min.css set `[hidden] { display: none !important; }`\n",
       "     so we also need the `!important` here to be able to override the\n",
       "     default hidden behavior on the sphinx rendered scikit-learn.org.\n",
       "     See: https://github.com/scikit-learn/scikit-learn/issues/21755 */\n",
       "  display: inline-block !important;\n",
       "  position: relative;\n",
       "}\n",
       "\n",
       "#sk-container-id-6 div.sk-text-repr-fallback {\n",
       "  display: none;\n",
       "}\n",
       "\n",
       "div.sk-parallel-item,\n",
       "div.sk-serial,\n",
       "div.sk-item {\n",
       "  /* draw centered vertical line to link estimators */\n",
       "  background-image: linear-gradient(var(--sklearn-color-text-on-default-background), var(--sklearn-color-text-on-default-background));\n",
       "  background-size: 2px 100%;\n",
       "  background-repeat: no-repeat;\n",
       "  background-position: center center;\n",
       "}\n",
       "\n",
       "/* Parallel-specific style estimator block */\n",
       "\n",
       "#sk-container-id-6 div.sk-parallel-item::after {\n",
       "  content: \"\";\n",
       "  width: 100%;\n",
       "  border-bottom: 2px solid var(--sklearn-color-text-on-default-background);\n",
       "  flex-grow: 1;\n",
       "}\n",
       "\n",
       "#sk-container-id-6 div.sk-parallel {\n",
       "  display: flex;\n",
       "  align-items: stretch;\n",
       "  justify-content: center;\n",
       "  background-color: var(--sklearn-color-background);\n",
       "  position: relative;\n",
       "}\n",
       "\n",
       "#sk-container-id-6 div.sk-parallel-item {\n",
       "  display: flex;\n",
       "  flex-direction: column;\n",
       "}\n",
       "\n",
       "#sk-container-id-6 div.sk-parallel-item:first-child::after {\n",
       "  align-self: flex-end;\n",
       "  width: 50%;\n",
       "}\n",
       "\n",
       "#sk-container-id-6 div.sk-parallel-item:last-child::after {\n",
       "  align-self: flex-start;\n",
       "  width: 50%;\n",
       "}\n",
       "\n",
       "#sk-container-id-6 div.sk-parallel-item:only-child::after {\n",
       "  width: 0;\n",
       "}\n",
       "\n",
       "/* Serial-specific style estimator block */\n",
       "\n",
       "#sk-container-id-6 div.sk-serial {\n",
       "  display: flex;\n",
       "  flex-direction: column;\n",
       "  align-items: center;\n",
       "  background-color: var(--sklearn-color-background);\n",
       "  padding-right: 1em;\n",
       "  padding-left: 1em;\n",
       "}\n",
       "\n",
       "\n",
       "/* Toggleable style: style used for estimator/Pipeline/ColumnTransformer box that is\n",
       "clickable and can be expanded/collapsed.\n",
       "- Pipeline and ColumnTransformer use this feature and define the default style\n",
       "- Estimators will overwrite some part of the style using the `sk-estimator` class\n",
       "*/\n",
       "\n",
       "/* Pipeline and ColumnTransformer style (default) */\n",
       "\n",
       "#sk-container-id-6 div.sk-toggleable {\n",
       "  /* Default theme specific background. It is overwritten whether we have a\n",
       "  specific estimator or a Pipeline/ColumnTransformer */\n",
       "  background-color: var(--sklearn-color-background);\n",
       "}\n",
       "\n",
       "/* Toggleable label */\n",
       "#sk-container-id-6 label.sk-toggleable__label {\n",
       "  cursor: pointer;\n",
       "  display: flex;\n",
       "  width: 100%;\n",
       "  margin-bottom: 0;\n",
       "  padding: 0.5em;\n",
       "  box-sizing: border-box;\n",
       "  text-align: center;\n",
       "  align-items: start;\n",
       "  justify-content: space-between;\n",
       "  gap: 0.5em;\n",
       "}\n",
       "\n",
       "#sk-container-id-6 label.sk-toggleable__label .caption {\n",
       "  font-size: 0.6rem;\n",
       "  font-weight: lighter;\n",
       "  color: var(--sklearn-color-text-muted);\n",
       "}\n",
       "\n",
       "#sk-container-id-6 label.sk-toggleable__label-arrow:before {\n",
       "  /* Arrow on the left of the label */\n",
       "  content: \"▸\";\n",
       "  float: left;\n",
       "  margin-right: 0.25em;\n",
       "  color: var(--sklearn-color-icon);\n",
       "}\n",
       "\n",
       "#sk-container-id-6 label.sk-toggleable__label-arrow:hover:before {\n",
       "  color: var(--sklearn-color-text);\n",
       "}\n",
       "\n",
       "/* Toggleable content - dropdown */\n",
       "\n",
       "#sk-container-id-6 div.sk-toggleable__content {\n",
       "  max-height: 0;\n",
       "  max-width: 0;\n",
       "  overflow: hidden;\n",
       "  text-align: left;\n",
       "  /* unfitted */\n",
       "  background-color: var(--sklearn-color-unfitted-level-0);\n",
       "}\n",
       "\n",
       "#sk-container-id-6 div.sk-toggleable__content.fitted {\n",
       "  /* fitted */\n",
       "  background-color: var(--sklearn-color-fitted-level-0);\n",
       "}\n",
       "\n",
       "#sk-container-id-6 div.sk-toggleable__content pre {\n",
       "  margin: 0.2em;\n",
       "  border-radius: 0.25em;\n",
       "  color: var(--sklearn-color-text);\n",
       "  /* unfitted */\n",
       "  background-color: var(--sklearn-color-unfitted-level-0);\n",
       "}\n",
       "\n",
       "#sk-container-id-6 div.sk-toggleable__content.fitted pre {\n",
       "  /* unfitted */\n",
       "  background-color: var(--sklearn-color-fitted-level-0);\n",
       "}\n",
       "\n",
       "#sk-container-id-6 input.sk-toggleable__control:checked~div.sk-toggleable__content {\n",
       "  /* Expand drop-down */\n",
       "  max-height: 200px;\n",
       "  max-width: 100%;\n",
       "  overflow: auto;\n",
       "}\n",
       "\n",
       "#sk-container-id-6 input.sk-toggleable__control:checked~label.sk-toggleable__label-arrow:before {\n",
       "  content: \"▾\";\n",
       "}\n",
       "\n",
       "/* Pipeline/ColumnTransformer-specific style */\n",
       "\n",
       "#sk-container-id-6 div.sk-label input.sk-toggleable__control:checked~label.sk-toggleable__label {\n",
       "  color: var(--sklearn-color-text);\n",
       "  background-color: var(--sklearn-color-unfitted-level-2);\n",
       "}\n",
       "\n",
       "#sk-container-id-6 div.sk-label.fitted input.sk-toggleable__control:checked~label.sk-toggleable__label {\n",
       "  background-color: var(--sklearn-color-fitted-level-2);\n",
       "}\n",
       "\n",
       "/* Estimator-specific style */\n",
       "\n",
       "/* Colorize estimator box */\n",
       "#sk-container-id-6 div.sk-estimator input.sk-toggleable__control:checked~label.sk-toggleable__label {\n",
       "  /* unfitted */\n",
       "  background-color: var(--sklearn-color-unfitted-level-2);\n",
       "}\n",
       "\n",
       "#sk-container-id-6 div.sk-estimator.fitted input.sk-toggleable__control:checked~label.sk-toggleable__label {\n",
       "  /* fitted */\n",
       "  background-color: var(--sklearn-color-fitted-level-2);\n",
       "}\n",
       "\n",
       "#sk-container-id-6 div.sk-label label.sk-toggleable__label,\n",
       "#sk-container-id-6 div.sk-label label {\n",
       "  /* The background is the default theme color */\n",
       "  color: var(--sklearn-color-text-on-default-background);\n",
       "}\n",
       "\n",
       "/* On hover, darken the color of the background */\n",
       "#sk-container-id-6 div.sk-label:hover label.sk-toggleable__label {\n",
       "  color: var(--sklearn-color-text);\n",
       "  background-color: var(--sklearn-color-unfitted-level-2);\n",
       "}\n",
       "\n",
       "/* Label box, darken color on hover, fitted */\n",
       "#sk-container-id-6 div.sk-label.fitted:hover label.sk-toggleable__label.fitted {\n",
       "  color: var(--sklearn-color-text);\n",
       "  background-color: var(--sklearn-color-fitted-level-2);\n",
       "}\n",
       "\n",
       "/* Estimator label */\n",
       "\n",
       "#sk-container-id-6 div.sk-label label {\n",
       "  font-family: monospace;\n",
       "  font-weight: bold;\n",
       "  display: inline-block;\n",
       "  line-height: 1.2em;\n",
       "}\n",
       "\n",
       "#sk-container-id-6 div.sk-label-container {\n",
       "  text-align: center;\n",
       "}\n",
       "\n",
       "/* Estimator-specific */\n",
       "#sk-container-id-6 div.sk-estimator {\n",
       "  font-family: monospace;\n",
       "  border: 1px dotted var(--sklearn-color-border-box);\n",
       "  border-radius: 0.25em;\n",
       "  box-sizing: border-box;\n",
       "  margin-bottom: 0.5em;\n",
       "  /* unfitted */\n",
       "  background-color: var(--sklearn-color-unfitted-level-0);\n",
       "}\n",
       "\n",
       "#sk-container-id-6 div.sk-estimator.fitted {\n",
       "  /* fitted */\n",
       "  background-color: var(--sklearn-color-fitted-level-0);\n",
       "}\n",
       "\n",
       "/* on hover */\n",
       "#sk-container-id-6 div.sk-estimator:hover {\n",
       "  /* unfitted */\n",
       "  background-color: var(--sklearn-color-unfitted-level-2);\n",
       "}\n",
       "\n",
       "#sk-container-id-6 div.sk-estimator.fitted:hover {\n",
       "  /* fitted */\n",
       "  background-color: var(--sklearn-color-fitted-level-2);\n",
       "}\n",
       "\n",
       "/* Specification for estimator info (e.g. \"i\" and \"?\") */\n",
       "\n",
       "/* Common style for \"i\" and \"?\" */\n",
       "\n",
       ".sk-estimator-doc-link,\n",
       "a:link.sk-estimator-doc-link,\n",
       "a:visited.sk-estimator-doc-link {\n",
       "  float: right;\n",
       "  font-size: smaller;\n",
       "  line-height: 1em;\n",
       "  font-family: monospace;\n",
       "  background-color: var(--sklearn-color-background);\n",
       "  border-radius: 1em;\n",
       "  height: 1em;\n",
       "  width: 1em;\n",
       "  text-decoration: none !important;\n",
       "  margin-left: 0.5em;\n",
       "  text-align: center;\n",
       "  /* unfitted */\n",
       "  border: var(--sklearn-color-unfitted-level-1) 1pt solid;\n",
       "  color: var(--sklearn-color-unfitted-level-1);\n",
       "}\n",
       "\n",
       ".sk-estimator-doc-link.fitted,\n",
       "a:link.sk-estimator-doc-link.fitted,\n",
       "a:visited.sk-estimator-doc-link.fitted {\n",
       "  /* fitted */\n",
       "  border: var(--sklearn-color-fitted-level-1) 1pt solid;\n",
       "  color: var(--sklearn-color-fitted-level-1);\n",
       "}\n",
       "\n",
       "/* On hover */\n",
       "div.sk-estimator:hover .sk-estimator-doc-link:hover,\n",
       ".sk-estimator-doc-link:hover,\n",
       "div.sk-label-container:hover .sk-estimator-doc-link:hover,\n",
       ".sk-estimator-doc-link:hover {\n",
       "  /* unfitted */\n",
       "  background-color: var(--sklearn-color-unfitted-level-3);\n",
       "  color: var(--sklearn-color-background);\n",
       "  text-decoration: none;\n",
       "}\n",
       "\n",
       "div.sk-estimator.fitted:hover .sk-estimator-doc-link.fitted:hover,\n",
       ".sk-estimator-doc-link.fitted:hover,\n",
       "div.sk-label-container:hover .sk-estimator-doc-link.fitted:hover,\n",
       ".sk-estimator-doc-link.fitted:hover {\n",
       "  /* fitted */\n",
       "  background-color: var(--sklearn-color-fitted-level-3);\n",
       "  color: var(--sklearn-color-background);\n",
       "  text-decoration: none;\n",
       "}\n",
       "\n",
       "/* Span, style for the box shown on hovering the info icon */\n",
       ".sk-estimator-doc-link span {\n",
       "  display: none;\n",
       "  z-index: 9999;\n",
       "  position: relative;\n",
       "  font-weight: normal;\n",
       "  right: .2ex;\n",
       "  padding: .5ex;\n",
       "  margin: .5ex;\n",
       "  width: min-content;\n",
       "  min-width: 20ex;\n",
       "  max-width: 50ex;\n",
       "  color: var(--sklearn-color-text);\n",
       "  box-shadow: 2pt 2pt 4pt #999;\n",
       "  /* unfitted */\n",
       "  background: var(--sklearn-color-unfitted-level-0);\n",
       "  border: .5pt solid var(--sklearn-color-unfitted-level-3);\n",
       "}\n",
       "\n",
       ".sk-estimator-doc-link.fitted span {\n",
       "  /* fitted */\n",
       "  background: var(--sklearn-color-fitted-level-0);\n",
       "  border: var(--sklearn-color-fitted-level-3);\n",
       "}\n",
       "\n",
       ".sk-estimator-doc-link:hover span {\n",
       "  display: block;\n",
       "}\n",
       "\n",
       "/* \"?\"-specific style due to the `<a>` HTML tag */\n",
       "\n",
       "#sk-container-id-6 a.estimator_doc_link {\n",
       "  float: right;\n",
       "  font-size: 1rem;\n",
       "  line-height: 1em;\n",
       "  font-family: monospace;\n",
       "  background-color: var(--sklearn-color-background);\n",
       "  border-radius: 1rem;\n",
       "  height: 1rem;\n",
       "  width: 1rem;\n",
       "  text-decoration: none;\n",
       "  /* unfitted */\n",
       "  color: var(--sklearn-color-unfitted-level-1);\n",
       "  border: var(--sklearn-color-unfitted-level-1) 1pt solid;\n",
       "}\n",
       "\n",
       "#sk-container-id-6 a.estimator_doc_link.fitted {\n",
       "  /* fitted */\n",
       "  border: var(--sklearn-color-fitted-level-1) 1pt solid;\n",
       "  color: var(--sklearn-color-fitted-level-1);\n",
       "}\n",
       "\n",
       "/* On hover */\n",
       "#sk-container-id-6 a.estimator_doc_link:hover {\n",
       "  /* unfitted */\n",
       "  background-color: var(--sklearn-color-unfitted-level-3);\n",
       "  color: var(--sklearn-color-background);\n",
       "  text-decoration: none;\n",
       "}\n",
       "\n",
       "#sk-container-id-6 a.estimator_doc_link.fitted:hover {\n",
       "  /* fitted */\n",
       "  background-color: var(--sklearn-color-fitted-level-3);\n",
       "}\n",
       "</style><div id=\"sk-container-id-6\" class=\"sk-top-container\"><div class=\"sk-text-repr-fallback\"><pre>LogisticRegression()</pre><b>In a Jupyter environment, please rerun this cell to show the HTML representation or trust the notebook. <br />On GitHub, the HTML representation is unable to render, please try loading this page with nbviewer.org.</b></div><div class=\"sk-container\" hidden><div class=\"sk-item\"><div class=\"sk-estimator fitted sk-toggleable\"><input class=\"sk-toggleable__control sk-hidden--visually\" id=\"sk-estimator-id-6\" type=\"checkbox\" checked><label for=\"sk-estimator-id-6\" class=\"sk-toggleable__label fitted sk-toggleable__label-arrow\"><div><div>LogisticRegression</div></div><div><a class=\"sk-estimator-doc-link fitted\" rel=\"noreferrer\" target=\"_blank\" href=\"https://scikit-learn.org/1.6/modules/generated/sklearn.linear_model.LogisticRegression.html\">?<span>Documentation for LogisticRegression</span></a><span class=\"sk-estimator-doc-link fitted\">i<span>Fitted</span></span></div></label><div class=\"sk-toggleable__content fitted\"><pre>LogisticRegression()</pre></div> </div></div></div></div>"
      ],
      "text/plain": [
       "LogisticRegression()"
      ]
     },
     "execution_count": 248,
     "metadata": {},
     "output_type": "execute_result"
    }
   ],
   "source": [
    "from sklearn.linear_model import LogisticRegression\n",
    "model = LogisticRegression()\n",
    "\n",
    "model.fit(X_train_scaled, y_train)"
   ]
  },
  {
   "cell_type": "markdown",
   "id": "dc3404cb-c6ef-4d58-8f6b-ed2a3b4b90aa",
   "metadata": {},
   "source": [
    "# EVALUATE THE MODEL BY Lgistic regression"
   ]
  },
  {
   "cell_type": "code",
   "execution_count": 249,
   "id": "506a194f-b1ea-424d-b42f-029379b46e5e",
   "metadata": {},
   "outputs": [],
   "source": [
    "from sklearn.metrics import accuracy_score, confusion_matrix, classification_report"
   ]
  },
  {
   "cell_type": "code",
   "execution_count": 250,
   "id": "2017eb43-7313-4111-b615-bfa81cca69d4",
   "metadata": {
    "scrolled": true
   },
   "outputs": [
    {
     "name": "stdout",
     "output_type": "stream",
     "text": [
      "Accuracy: 0.9620499513460915\n",
      "[[2977   66]\n",
      " [ 168 2955]]\n",
      "              precision    recall  f1-score   support\n",
      "\n",
      "       False       0.95      0.98      0.96      3043\n",
      "        True       0.98      0.95      0.96      3123\n",
      "\n",
      "    accuracy                           0.96      6166\n",
      "   macro avg       0.96      0.96      0.96      6166\n",
      "weighted avg       0.96      0.96      0.96      6166\n",
      "\n"
     ]
    }
   ],
   "source": [
    "y_pred = model.predict(X_test_scaled)\n",
    "print(\"Accuracy:\", accuracy_score(y_test, y_pred))\n",
    "print(confusion_matrix(y_test, y_pred))\n",
    "print(classification_report(y_test, y_pred))\n"
   ]
  },
  {
   "cell_type": "code",
   "execution_count": 251,
   "id": "ff55eb81-b87c-41a1-b5ae-f7a86d694056",
   "metadata": {
    "scrolled": true
   },
   "outputs": [
    {
     "name": "stdout",
     "output_type": "stream",
     "text": [
      "Best Params: {'C': 0.1, 'penalty': 'l2', 'solver': 'liblinear'}\n",
      "Best CV Accuracy: 0.9632138675345715\n"
     ]
    }
   ],
   "source": [
    "from sklearn.linear_model import LogisticRegression\n",
    "from sklearn.model_selection import GridSearchCV\n",
    "\n",
    "# Grid for C (lower C = stronger regularization)\n",
    "param_grid = {\n",
    "    'C': [0.001, 0.01, 0.1, 1, 10],\n",
    "    'penalty': ['l2'],\n",
    "    'solver': ['liblinear']  # Use liblinear for small datasets\n",
    "}\n",
    "\n",
    "grid = GridSearchCV(LogisticRegression(random_state=42), param_grid, cv=5, scoring='accuracy')\n",
    "grid.fit(X, y)\n",
    "\n",
    "print(\"Best Params:\", grid.best_params_)\n",
    "print(\"Best CV Accuracy:\", grid.best_score_)\n"
   ]
  },
  {
   "cell_type": "code",
   "execution_count": 252,
   "id": "e57cd4b7-8bc2-471c-9416-31a913a4746a",
   "metadata": {},
   "outputs": [
    {
     "name": "stdout",
     "output_type": "stream",
     "text": [
      "Cross-validation scores: [0.96610444 0.96545572 0.9594485  0.96090835 0.96107056]\n",
      "Average accuracy: 0.9625975162962315\n"
     ]
    }
   ],
   "source": [
    "from sklearn.model_selection import cross_val_score\n",
    "\n",
    "model = LogisticRegression(C=1, solver='liblinear', random_state=42)\n",
    "scores = cross_val_score(model, X, y, cv=5, scoring='accuracy')\n",
    "\n",
    "print(\"Cross-validation scores:\", scores)\n",
    "print(\"Average accuracy:\", scores.mean())\n"
   ]
  },
  {
   "cell_type": "code",
   "execution_count": 253,
   "id": "c10f4167-0660-4043-997f-c16fbda01472",
   "metadata": {
    "jupyter": {
     "source_hidden": true
    }
   },
   "outputs": [
    {
     "name": "stdout",
     "output_type": "stream",
     "text": [
      "ROC-AUC Score: 0.9879510135911893\n"
     ]
    }
   ],
   "source": [
    "from sklearn.linear_model import LogisticRegression\n",
    "from sklearn.metrics import roc_auc_score\n",
    "\n",
    "# Step 1: Train the model (this is missing in your current code)\n",
    "model = LogisticRegression(random_state=42, solver='liblinear')\n",
    "model.fit(X_train, y_train)\n",
    "\n",
    "# Step 2: Predict probabilities\n",
    "y_prob = model.predict_proba(X_test)[:, 1]\n",
    "\n",
    "# Step 3: Calculate ROC-AUC\n",
    "roc_auc = roc_auc_score(y_test, y_prob)\n",
    "print(\"ROC-AUC Score:\", roc_auc)\n"
   ]
  },
  {
   "cell_type": "code",
   "execution_count": 254,
   "id": "eb812fcd-d2c2-47fd-a3b6-22bd5edb20ab",
   "metadata": {},
   "outputs": [
    {
     "name": "stdout",
     "output_type": "stream",
     "text": [
      "Train Accuracy: 0.9631807307084059\n",
      "Test Accuracy: 0.9622121310411936\n"
     ]
    }
   ],
   "source": [
    "train_score = model.score(X_train, y_train)\n",
    "test_score = model.score(X_test, y_test)\n",
    "print(f\"Train Accuracy: {train_score}\")\n",
    "print(f\"Test Accuracy: {test_score}\")\n"
   ]
  },
  {
   "cell_type": "code",
   "execution_count": 255,
   "id": "f70c74ae-e16e-4f00-a5ca-936552638616",
   "metadata": {},
   "outputs": [],
   "source": [
    "#!pip install shap"
   ]
  },
  {
   "cell_type": "markdown",
   "id": "8342bd5a-51d3-44c9-8409-7cbcfe7f57f4",
   "metadata": {},
   "source": [
    "# SHAP"
   ]
  },
  {
   "cell_type": "code",
   "execution_count": 256,
   "id": "ad75ad4c-88e7-4de0-adba-e6c256fdd9cc",
   "metadata": {},
   "outputs": [],
   "source": [
    "import shap"
   ]
  },
  {
   "cell_type": "code",
   "execution_count": 257,
   "id": "251aaa99-a197-4513-8ebe-a556d4536d4b",
   "metadata": {},
   "outputs": [
    {
     "data": {
      "text/html": [
       "<style>#sk-container-id-7 {\n",
       "  /* Definition of color scheme common for light and dark mode */\n",
       "  --sklearn-color-text: #000;\n",
       "  --sklearn-color-text-muted: #666;\n",
       "  --sklearn-color-line: gray;\n",
       "  /* Definition of color scheme for unfitted estimators */\n",
       "  --sklearn-color-unfitted-level-0: #fff5e6;\n",
       "  --sklearn-color-unfitted-level-1: #f6e4d2;\n",
       "  --sklearn-color-unfitted-level-2: #ffe0b3;\n",
       "  --sklearn-color-unfitted-level-3: chocolate;\n",
       "  /* Definition of color scheme for fitted estimators */\n",
       "  --sklearn-color-fitted-level-0: #f0f8ff;\n",
       "  --sklearn-color-fitted-level-1: #d4ebff;\n",
       "  --sklearn-color-fitted-level-2: #b3dbfd;\n",
       "  --sklearn-color-fitted-level-3: cornflowerblue;\n",
       "\n",
       "  /* Specific color for light theme */\n",
       "  --sklearn-color-text-on-default-background: var(--sg-text-color, var(--theme-code-foreground, var(--jp-content-font-color1, black)));\n",
       "  --sklearn-color-background: var(--sg-background-color, var(--theme-background, var(--jp-layout-color0, white)));\n",
       "  --sklearn-color-border-box: var(--sg-text-color, var(--theme-code-foreground, var(--jp-content-font-color1, black)));\n",
       "  --sklearn-color-icon: #696969;\n",
       "\n",
       "  @media (prefers-color-scheme: dark) {\n",
       "    /* Redefinition of color scheme for dark theme */\n",
       "    --sklearn-color-text-on-default-background: var(--sg-text-color, var(--theme-code-foreground, var(--jp-content-font-color1, white)));\n",
       "    --sklearn-color-background: var(--sg-background-color, var(--theme-background, var(--jp-layout-color0, #111)));\n",
       "    --sklearn-color-border-box: var(--sg-text-color, var(--theme-code-foreground, var(--jp-content-font-color1, white)));\n",
       "    --sklearn-color-icon: #878787;\n",
       "  }\n",
       "}\n",
       "\n",
       "#sk-container-id-7 {\n",
       "  color: var(--sklearn-color-text);\n",
       "}\n",
       "\n",
       "#sk-container-id-7 pre {\n",
       "  padding: 0;\n",
       "}\n",
       "\n",
       "#sk-container-id-7 input.sk-hidden--visually {\n",
       "  border: 0;\n",
       "  clip: rect(1px 1px 1px 1px);\n",
       "  clip: rect(1px, 1px, 1px, 1px);\n",
       "  height: 1px;\n",
       "  margin: -1px;\n",
       "  overflow: hidden;\n",
       "  padding: 0;\n",
       "  position: absolute;\n",
       "  width: 1px;\n",
       "}\n",
       "\n",
       "#sk-container-id-7 div.sk-dashed-wrapped {\n",
       "  border: 1px dashed var(--sklearn-color-line);\n",
       "  margin: 0 0.4em 0.5em 0.4em;\n",
       "  box-sizing: border-box;\n",
       "  padding-bottom: 0.4em;\n",
       "  background-color: var(--sklearn-color-background);\n",
       "}\n",
       "\n",
       "#sk-container-id-7 div.sk-container {\n",
       "  /* jupyter's `normalize.less` sets `[hidden] { display: none; }`\n",
       "     but bootstrap.min.css set `[hidden] { display: none !important; }`\n",
       "     so we also need the `!important` here to be able to override the\n",
       "     default hidden behavior on the sphinx rendered scikit-learn.org.\n",
       "     See: https://github.com/scikit-learn/scikit-learn/issues/21755 */\n",
       "  display: inline-block !important;\n",
       "  position: relative;\n",
       "}\n",
       "\n",
       "#sk-container-id-7 div.sk-text-repr-fallback {\n",
       "  display: none;\n",
       "}\n",
       "\n",
       "div.sk-parallel-item,\n",
       "div.sk-serial,\n",
       "div.sk-item {\n",
       "  /* draw centered vertical line to link estimators */\n",
       "  background-image: linear-gradient(var(--sklearn-color-text-on-default-background), var(--sklearn-color-text-on-default-background));\n",
       "  background-size: 2px 100%;\n",
       "  background-repeat: no-repeat;\n",
       "  background-position: center center;\n",
       "}\n",
       "\n",
       "/* Parallel-specific style estimator block */\n",
       "\n",
       "#sk-container-id-7 div.sk-parallel-item::after {\n",
       "  content: \"\";\n",
       "  width: 100%;\n",
       "  border-bottom: 2px solid var(--sklearn-color-text-on-default-background);\n",
       "  flex-grow: 1;\n",
       "}\n",
       "\n",
       "#sk-container-id-7 div.sk-parallel {\n",
       "  display: flex;\n",
       "  align-items: stretch;\n",
       "  justify-content: center;\n",
       "  background-color: var(--sklearn-color-background);\n",
       "  position: relative;\n",
       "}\n",
       "\n",
       "#sk-container-id-7 div.sk-parallel-item {\n",
       "  display: flex;\n",
       "  flex-direction: column;\n",
       "}\n",
       "\n",
       "#sk-container-id-7 div.sk-parallel-item:first-child::after {\n",
       "  align-self: flex-end;\n",
       "  width: 50%;\n",
       "}\n",
       "\n",
       "#sk-container-id-7 div.sk-parallel-item:last-child::after {\n",
       "  align-self: flex-start;\n",
       "  width: 50%;\n",
       "}\n",
       "\n",
       "#sk-container-id-7 div.sk-parallel-item:only-child::after {\n",
       "  width: 0;\n",
       "}\n",
       "\n",
       "/* Serial-specific style estimator block */\n",
       "\n",
       "#sk-container-id-7 div.sk-serial {\n",
       "  display: flex;\n",
       "  flex-direction: column;\n",
       "  align-items: center;\n",
       "  background-color: var(--sklearn-color-background);\n",
       "  padding-right: 1em;\n",
       "  padding-left: 1em;\n",
       "}\n",
       "\n",
       "\n",
       "/* Toggleable style: style used for estimator/Pipeline/ColumnTransformer box that is\n",
       "clickable and can be expanded/collapsed.\n",
       "- Pipeline and ColumnTransformer use this feature and define the default style\n",
       "- Estimators will overwrite some part of the style using the `sk-estimator` class\n",
       "*/\n",
       "\n",
       "/* Pipeline and ColumnTransformer style (default) */\n",
       "\n",
       "#sk-container-id-7 div.sk-toggleable {\n",
       "  /* Default theme specific background. It is overwritten whether we have a\n",
       "  specific estimator or a Pipeline/ColumnTransformer */\n",
       "  background-color: var(--sklearn-color-background);\n",
       "}\n",
       "\n",
       "/* Toggleable label */\n",
       "#sk-container-id-7 label.sk-toggleable__label {\n",
       "  cursor: pointer;\n",
       "  display: flex;\n",
       "  width: 100%;\n",
       "  margin-bottom: 0;\n",
       "  padding: 0.5em;\n",
       "  box-sizing: border-box;\n",
       "  text-align: center;\n",
       "  align-items: start;\n",
       "  justify-content: space-between;\n",
       "  gap: 0.5em;\n",
       "}\n",
       "\n",
       "#sk-container-id-7 label.sk-toggleable__label .caption {\n",
       "  font-size: 0.6rem;\n",
       "  font-weight: lighter;\n",
       "  color: var(--sklearn-color-text-muted);\n",
       "}\n",
       "\n",
       "#sk-container-id-7 label.sk-toggleable__label-arrow:before {\n",
       "  /* Arrow on the left of the label */\n",
       "  content: \"▸\";\n",
       "  float: left;\n",
       "  margin-right: 0.25em;\n",
       "  color: var(--sklearn-color-icon);\n",
       "}\n",
       "\n",
       "#sk-container-id-7 label.sk-toggleable__label-arrow:hover:before {\n",
       "  color: var(--sklearn-color-text);\n",
       "}\n",
       "\n",
       "/* Toggleable content - dropdown */\n",
       "\n",
       "#sk-container-id-7 div.sk-toggleable__content {\n",
       "  max-height: 0;\n",
       "  max-width: 0;\n",
       "  overflow: hidden;\n",
       "  text-align: left;\n",
       "  /* unfitted */\n",
       "  background-color: var(--sklearn-color-unfitted-level-0);\n",
       "}\n",
       "\n",
       "#sk-container-id-7 div.sk-toggleable__content.fitted {\n",
       "  /* fitted */\n",
       "  background-color: var(--sklearn-color-fitted-level-0);\n",
       "}\n",
       "\n",
       "#sk-container-id-7 div.sk-toggleable__content pre {\n",
       "  margin: 0.2em;\n",
       "  border-radius: 0.25em;\n",
       "  color: var(--sklearn-color-text);\n",
       "  /* unfitted */\n",
       "  background-color: var(--sklearn-color-unfitted-level-0);\n",
       "}\n",
       "\n",
       "#sk-container-id-7 div.sk-toggleable__content.fitted pre {\n",
       "  /* unfitted */\n",
       "  background-color: var(--sklearn-color-fitted-level-0);\n",
       "}\n",
       "\n",
       "#sk-container-id-7 input.sk-toggleable__control:checked~div.sk-toggleable__content {\n",
       "  /* Expand drop-down */\n",
       "  max-height: 200px;\n",
       "  max-width: 100%;\n",
       "  overflow: auto;\n",
       "}\n",
       "\n",
       "#sk-container-id-7 input.sk-toggleable__control:checked~label.sk-toggleable__label-arrow:before {\n",
       "  content: \"▾\";\n",
       "}\n",
       "\n",
       "/* Pipeline/ColumnTransformer-specific style */\n",
       "\n",
       "#sk-container-id-7 div.sk-label input.sk-toggleable__control:checked~label.sk-toggleable__label {\n",
       "  color: var(--sklearn-color-text);\n",
       "  background-color: var(--sklearn-color-unfitted-level-2);\n",
       "}\n",
       "\n",
       "#sk-container-id-7 div.sk-label.fitted input.sk-toggleable__control:checked~label.sk-toggleable__label {\n",
       "  background-color: var(--sklearn-color-fitted-level-2);\n",
       "}\n",
       "\n",
       "/* Estimator-specific style */\n",
       "\n",
       "/* Colorize estimator box */\n",
       "#sk-container-id-7 div.sk-estimator input.sk-toggleable__control:checked~label.sk-toggleable__label {\n",
       "  /* unfitted */\n",
       "  background-color: var(--sklearn-color-unfitted-level-2);\n",
       "}\n",
       "\n",
       "#sk-container-id-7 div.sk-estimator.fitted input.sk-toggleable__control:checked~label.sk-toggleable__label {\n",
       "  /* fitted */\n",
       "  background-color: var(--sklearn-color-fitted-level-2);\n",
       "}\n",
       "\n",
       "#sk-container-id-7 div.sk-label label.sk-toggleable__label,\n",
       "#sk-container-id-7 div.sk-label label {\n",
       "  /* The background is the default theme color */\n",
       "  color: var(--sklearn-color-text-on-default-background);\n",
       "}\n",
       "\n",
       "/* On hover, darken the color of the background */\n",
       "#sk-container-id-7 div.sk-label:hover label.sk-toggleable__label {\n",
       "  color: var(--sklearn-color-text);\n",
       "  background-color: var(--sklearn-color-unfitted-level-2);\n",
       "}\n",
       "\n",
       "/* Label box, darken color on hover, fitted */\n",
       "#sk-container-id-7 div.sk-label.fitted:hover label.sk-toggleable__label.fitted {\n",
       "  color: var(--sklearn-color-text);\n",
       "  background-color: var(--sklearn-color-fitted-level-2);\n",
       "}\n",
       "\n",
       "/* Estimator label */\n",
       "\n",
       "#sk-container-id-7 div.sk-label label {\n",
       "  font-family: monospace;\n",
       "  font-weight: bold;\n",
       "  display: inline-block;\n",
       "  line-height: 1.2em;\n",
       "}\n",
       "\n",
       "#sk-container-id-7 div.sk-label-container {\n",
       "  text-align: center;\n",
       "}\n",
       "\n",
       "/* Estimator-specific */\n",
       "#sk-container-id-7 div.sk-estimator {\n",
       "  font-family: monospace;\n",
       "  border: 1px dotted var(--sklearn-color-border-box);\n",
       "  border-radius: 0.25em;\n",
       "  box-sizing: border-box;\n",
       "  margin-bottom: 0.5em;\n",
       "  /* unfitted */\n",
       "  background-color: var(--sklearn-color-unfitted-level-0);\n",
       "}\n",
       "\n",
       "#sk-container-id-7 div.sk-estimator.fitted {\n",
       "  /* fitted */\n",
       "  background-color: var(--sklearn-color-fitted-level-0);\n",
       "}\n",
       "\n",
       "/* on hover */\n",
       "#sk-container-id-7 div.sk-estimator:hover {\n",
       "  /* unfitted */\n",
       "  background-color: var(--sklearn-color-unfitted-level-2);\n",
       "}\n",
       "\n",
       "#sk-container-id-7 div.sk-estimator.fitted:hover {\n",
       "  /* fitted */\n",
       "  background-color: var(--sklearn-color-fitted-level-2);\n",
       "}\n",
       "\n",
       "/* Specification for estimator info (e.g. \"i\" and \"?\") */\n",
       "\n",
       "/* Common style for \"i\" and \"?\" */\n",
       "\n",
       ".sk-estimator-doc-link,\n",
       "a:link.sk-estimator-doc-link,\n",
       "a:visited.sk-estimator-doc-link {\n",
       "  float: right;\n",
       "  font-size: smaller;\n",
       "  line-height: 1em;\n",
       "  font-family: monospace;\n",
       "  background-color: var(--sklearn-color-background);\n",
       "  border-radius: 1em;\n",
       "  height: 1em;\n",
       "  width: 1em;\n",
       "  text-decoration: none !important;\n",
       "  margin-left: 0.5em;\n",
       "  text-align: center;\n",
       "  /* unfitted */\n",
       "  border: var(--sklearn-color-unfitted-level-1) 1pt solid;\n",
       "  color: var(--sklearn-color-unfitted-level-1);\n",
       "}\n",
       "\n",
       ".sk-estimator-doc-link.fitted,\n",
       "a:link.sk-estimator-doc-link.fitted,\n",
       "a:visited.sk-estimator-doc-link.fitted {\n",
       "  /* fitted */\n",
       "  border: var(--sklearn-color-fitted-level-1) 1pt solid;\n",
       "  color: var(--sklearn-color-fitted-level-1);\n",
       "}\n",
       "\n",
       "/* On hover */\n",
       "div.sk-estimator:hover .sk-estimator-doc-link:hover,\n",
       ".sk-estimator-doc-link:hover,\n",
       "div.sk-label-container:hover .sk-estimator-doc-link:hover,\n",
       ".sk-estimator-doc-link:hover {\n",
       "  /* unfitted */\n",
       "  background-color: var(--sklearn-color-unfitted-level-3);\n",
       "  color: var(--sklearn-color-background);\n",
       "  text-decoration: none;\n",
       "}\n",
       "\n",
       "div.sk-estimator.fitted:hover .sk-estimator-doc-link.fitted:hover,\n",
       ".sk-estimator-doc-link.fitted:hover,\n",
       "div.sk-label-container:hover .sk-estimator-doc-link.fitted:hover,\n",
       ".sk-estimator-doc-link.fitted:hover {\n",
       "  /* fitted */\n",
       "  background-color: var(--sklearn-color-fitted-level-3);\n",
       "  color: var(--sklearn-color-background);\n",
       "  text-decoration: none;\n",
       "}\n",
       "\n",
       "/* Span, style for the box shown on hovering the info icon */\n",
       ".sk-estimator-doc-link span {\n",
       "  display: none;\n",
       "  z-index: 9999;\n",
       "  position: relative;\n",
       "  font-weight: normal;\n",
       "  right: .2ex;\n",
       "  padding: .5ex;\n",
       "  margin: .5ex;\n",
       "  width: min-content;\n",
       "  min-width: 20ex;\n",
       "  max-width: 50ex;\n",
       "  color: var(--sklearn-color-text);\n",
       "  box-shadow: 2pt 2pt 4pt #999;\n",
       "  /* unfitted */\n",
       "  background: var(--sklearn-color-unfitted-level-0);\n",
       "  border: .5pt solid var(--sklearn-color-unfitted-level-3);\n",
       "}\n",
       "\n",
       ".sk-estimator-doc-link.fitted span {\n",
       "  /* fitted */\n",
       "  background: var(--sklearn-color-fitted-level-0);\n",
       "  border: var(--sklearn-color-fitted-level-3);\n",
       "}\n",
       "\n",
       ".sk-estimator-doc-link:hover span {\n",
       "  display: block;\n",
       "}\n",
       "\n",
       "/* \"?\"-specific style due to the `<a>` HTML tag */\n",
       "\n",
       "#sk-container-id-7 a.estimator_doc_link {\n",
       "  float: right;\n",
       "  font-size: 1rem;\n",
       "  line-height: 1em;\n",
       "  font-family: monospace;\n",
       "  background-color: var(--sklearn-color-background);\n",
       "  border-radius: 1rem;\n",
       "  height: 1rem;\n",
       "  width: 1rem;\n",
       "  text-decoration: none;\n",
       "  /* unfitted */\n",
       "  color: var(--sklearn-color-unfitted-level-1);\n",
       "  border: var(--sklearn-color-unfitted-level-1) 1pt solid;\n",
       "}\n",
       "\n",
       "#sk-container-id-7 a.estimator_doc_link.fitted {\n",
       "  /* fitted */\n",
       "  border: var(--sklearn-color-fitted-level-1) 1pt solid;\n",
       "  color: var(--sklearn-color-fitted-level-1);\n",
       "}\n",
       "\n",
       "/* On hover */\n",
       "#sk-container-id-7 a.estimator_doc_link:hover {\n",
       "  /* unfitted */\n",
       "  background-color: var(--sklearn-color-unfitted-level-3);\n",
       "  color: var(--sklearn-color-background);\n",
       "  text-decoration: none;\n",
       "}\n",
       "\n",
       "#sk-container-id-7 a.estimator_doc_link.fitted:hover {\n",
       "  /* fitted */\n",
       "  background-color: var(--sklearn-color-fitted-level-3);\n",
       "}\n",
       "</style><div id=\"sk-container-id-7\" class=\"sk-top-container\"><div class=\"sk-text-repr-fallback\"><pre>LogisticRegression(C=0.1, solver=&#x27;liblinear&#x27;)</pre><b>In a Jupyter environment, please rerun this cell to show the HTML representation or trust the notebook. <br />On GitHub, the HTML representation is unable to render, please try loading this page with nbviewer.org.</b></div><div class=\"sk-container\" hidden><div class=\"sk-item\"><div class=\"sk-estimator fitted sk-toggleable\"><input class=\"sk-toggleable__control sk-hidden--visually\" id=\"sk-estimator-id-7\" type=\"checkbox\" checked><label for=\"sk-estimator-id-7\" class=\"sk-toggleable__label fitted sk-toggleable__label-arrow\"><div><div>LogisticRegression</div></div><div><a class=\"sk-estimator-doc-link fitted\" rel=\"noreferrer\" target=\"_blank\" href=\"https://scikit-learn.org/1.6/modules/generated/sklearn.linear_model.LogisticRegression.html\">?<span>Documentation for LogisticRegression</span></a><span class=\"sk-estimator-doc-link fitted\">i<span>Fitted</span></span></div></label><div class=\"sk-toggleable__content fitted\"><pre>LogisticRegression(C=0.1, solver=&#x27;liblinear&#x27;)</pre></div> </div></div></div></div>"
      ],
      "text/plain": [
       "LogisticRegression(C=0.1, solver='liblinear')"
      ]
     },
     "execution_count": 257,
     "metadata": {},
     "output_type": "execute_result"
    }
   ],
   "source": [
    "log_reg = LogisticRegression(C=0.1, penalty='l2', solver='liblinear')\n",
    "log_reg.fit(X_train, y_train)"
   ]
  },
  {
   "cell_type": "code",
   "execution_count": 258,
   "id": "a23ffafa-4106-470d-bbe6-e0048abcc187",
   "metadata": {},
   "outputs": [],
   "source": [
    "from sklearn.linear_model import LogisticRegression\n",
    "\n",
    "# Re-train or ensure the model is defined\n",
    "log_reg = LogisticRegression(C=0.1, penalty='l2', solver='liblinear')\n",
    "log_reg.fit(X_train, y_train)\n",
    "\n",
    "# Use a sample of test data for SHAP\n",
    "X_sample = X_test.copy()\n",
    "\n",
    "# Assign model variable for SHAP\n",
    "model = log_reg\n"
   ]
  },
  {
   "cell_type": "code",
   "execution_count": 259,
   "id": "465cc550-20a7-4280-91d8-c10d05ca4716",
   "metadata": {},
   "outputs": [],
   "source": [
    "explainer = shap.Explainer(model, X_sample)\n",
    "shap_values = explainer(X_sample)\n"
   ]
  },
  {
   "cell_type": "code",
   "execution_count": 260,
   "id": "5a9ca05a-8bd4-429c-ba32-5428d6b94625",
   "metadata": {},
   "outputs": [
    {
     "data": {
      "image/png": "[encoded data removed]",
      "text/plain": [
       "<Figure size 800x310 with 2 Axes>"
      ]
     },
     "metadata": {},
     "output_type": "display_data"
    }
   ],
   "source": [
    "shap.summary_plot(shap_values, X_sample)\n"
   ]
  },
  {
   "cell_type": "code",
   "execution_count": 261,
   "id": "e321fde1-a7c8-4d09-8d30-98ef4a269e18",
   "metadata": {},
   "outputs": [
    {
     "data": {
      "image/png": "[encoded data removed]",
      "text/plain": [
       "<Figure size 800x350 with 1 Axes>"
      ]
     },
     "metadata": {},
     "output_type": "display_data"
    }
   ],
   "source": [
    "shap.plots.bar(shap_values)\n"
   ]
  },
  {
   "cell_type": "code",
   "execution_count": null,
   "id": "d35d90f0-73fa-4893-899e-7acc29ae2c55",
   "metadata": {},
   "outputs": [],
   "source": []
  },
  {
   "cell_type": "code",
   "execution_count": null,
   "id": "96484780-4770-4f09-b4fb-7da9b1a53942",
   "metadata": {},
   "outputs": [],
   "source": []
  },
  {
   "cell_type": "code",
   "execution_count": null,
   "id": "abfb0a95-af2c-4e9c-a646-077835f25023",
   "metadata": {},
   "outputs": [],
   "source": []
  },
  {
   "cell_type": "code",
   "execution_count": 155,
   "id": "e97ff37b-13d4-4b97-9795-be858342ebb1",
   "metadata": {
    "scrolled": true
   },
   "outputs": [],
   "source": [
    "# from sklearn.ensemble import RandomForestClassifier\n",
    "# from sklearn.metrics import classification_report, confusion_matrix, accuracy_score\n",
    "# import matplotlib.pyplot as plt\n",
    "# import seaborn as sns\n",
    "\n",
    "# # Step 1: Initialize the model\n",
    "# rf_model = RandomForestClassifier(n_estimators=100, random_state=42)\n",
    "\n",
    "# # Step 2: Fit the model\n",
    "# rf_model.fit(X_train, y_train)\n",
    "\n",
    "# # Step 3: Predict\n",
    "# y_pred = rf_model.predict(X_test)\n",
    "\n",
    "# # Step 4: Evaluate\n",
    "# print(\"✅ Accuracy:\", accuracy_score(y_test, y_pred))\n",
    "# print(\"\\n✅ Classification Report:\\n\", classification_report(y_test, y_pred))\n"
   ]
  },
  {
   "cell_type": "code",
   "execution_count": 115,
   "id": "c2b93e71-a66e-4da2-9987-891ee95e4e3a",
   "metadata": {},
   "outputs": [
    {
     "name": "stdout",
     "output_type": "stream",
     "text": [
      "Fitting 5 folds for each of 48 candidates, totalling 240 fits\n",
      "Best Parameters: {'class_weight': 'balanced', 'max_depth': 10, 'max_features': 'sqrt', 'min_samples_leaf': 1, 'min_samples_split': 2, 'n_estimators': 100}\n",
      "Accuracy: 0.9905962190984003\n"
     ]
    }
   ],
   "source": [
    "# from sklearn.ensemble import RandomForestClassifier\n",
    "# from sklearn.model_selection import GridSearchCV\n",
    "\n",
    "# # Define the parameter grid\n",
    "# param_grid = {\n",
    "#     'n_estimators': [100, 200],\n",
    "#     'max_depth': [10, 20, None],\n",
    "#     'min_samples_split': [2, 5],\n",
    "#     'min_samples_leaf': [1, 2],\n",
    "#     'max_features': ['sqrt', 'log2'],\n",
    "#     'class_weight': ['balanced']\n",
    "# }\n",
    "\n",
    "# # Initialize the model\n",
    "# rf = RandomForestClassifier(random_state=42)\n",
    "\n",
    "# # Grid Search with 5-fold cross-validation\n",
    "# grid_search = GridSearchCV(estimator=rf, param_grid=param_grid,\n",
    "#                            cv=5, scoring='accuracy', verbose=1, n_jobs=-1)\n",
    "\n",
    "# # Fit the model\n",
    "# grid_search.fit(X_train, y_train)\n",
    "\n",
    "# # Best model\n",
    "# best_rf = grid_search.best_estimator_\n",
    "\n",
    "# # Predict and evaluate\n",
    "# y_pred = best_rf.predict(X_test)\n",
    "# print(\"Best Parameters:\", grid_search.best_params_)\n",
    "# print(\"Accuracy:\", accuracy_score(y_test, y_pred))\n"
   ]
  },
  {
   "cell_type": "code",
   "execution_count": 116,
   "id": "88283812-dac5-4059-9fbf-e6d5652864ae",
   "metadata": {},
   "outputs": [
    {
     "data": {
      "text/html": [
       "<div>\n",
       "<style scoped>\n",
       "    .dataframe tbody tr th:only-of-type {\n",
       "        vertical-align: middle;\n",
       "    }\n",
       "\n",
       "    .dataframe tbody tr th {\n",
       "        vertical-align: top;\n",
       "    }\n",
       "\n",
       "    .dataframe thead th {\n",
       "        text-align: right;\n",
       "    }\n",
       "</style>\n",
       "<table border=\"1\" class=\"dataframe\">\n",
       "  <thead>\n",
       "    <tr style=\"text-align: right;\">\n",
       "      <th></th>\n",
       "      <th>avg_review_score</th>\n",
       "      <th>avg_delivery_delay</th>\n",
       "      <th>avg_freight</th>\n",
       "      <th>avg_payment</th>\n",
       "      <th>recency_days</th>\n",
       "      <th>is_churn</th>\n",
       "      <th>order_id</th>\n",
       "      <th>order_count</th>\n",
       "      <th>tenure_days</th>\n",
       "    </tr>\n",
       "  </thead>\n",
       "  <tbody>\n",
       "    <tr>\n",
       "      <th>0</th>\n",
       "      <td>5.0</td>\n",
       "      <td>-14.0</td>\n",
       "      <td>7.39</td>\n",
       "      <td>1.0</td>\n",
       "      <td>115</td>\n",
       "      <td>False</td>\n",
       "      <td>1</td>\n",
       "      <td>1</td>\n",
       "      <td>115</td>\n",
       "    </tr>\n",
       "    <tr>\n",
       "      <th>1</th>\n",
       "      <td>1.0</td>\n",
       "      <td>-13.0</td>\n",
       "      <td>14.10</td>\n",
       "      <td>1.0</td>\n",
       "      <td>200</td>\n",
       "      <td>True</td>\n",
       "      <td>1</td>\n",
       "      <td>1</td>\n",
       "      <td>200</td>\n",
       "    </tr>\n",
       "    <tr>\n",
       "      <th>2</th>\n",
       "      <td>5.0</td>\n",
       "      <td>-15.0</td>\n",
       "      <td>13.99</td>\n",
       "      <td>1.0</td>\n",
       "      <td>196</td>\n",
       "      <td>True</td>\n",
       "      <td>1</td>\n",
       "      <td>1</td>\n",
       "      <td>196</td>\n",
       "    </tr>\n",
       "    <tr>\n",
       "      <th>3</th>\n",
       "      <td>5.0</td>\n",
       "      <td>-11.0</td>\n",
       "      <td>15.10</td>\n",
       "      <td>1.0</td>\n",
       "      <td>211</td>\n",
       "      <td>True</td>\n",
       "      <td>1</td>\n",
       "      <td>1</td>\n",
       "      <td>211</td>\n",
       "    </tr>\n",
       "    <tr>\n",
       "      <th>4</th>\n",
       "      <td>5.0</td>\n",
       "      <td>-22.0</td>\n",
       "      <td>12.79</td>\n",
       "      <td>1.0</td>\n",
       "      <td>89</td>\n",
       "      <td>False</td>\n",
       "      <td>1</td>\n",
       "      <td>1</td>\n",
       "      <td>89</td>\n",
       "    </tr>\n",
       "  </tbody>\n",
       "</table>\n",
       "</div>"
      ],
      "text/plain": [
       "   avg_review_score  avg_delivery_delay  avg_freight  avg_payment  \\\n",
       "0               5.0               -14.0         7.39          1.0   \n",
       "1               1.0               -13.0        14.10          1.0   \n",
       "2               5.0               -15.0        13.99          1.0   \n",
       "3               5.0               -11.0        15.10          1.0   \n",
       "4               5.0               -22.0        12.79          1.0   \n",
       "\n",
       "   recency_days  is_churn  order_id  order_count  tenure_days  \n",
       "0           115     False         1            1          115  \n",
       "1           200      True         1            1          200  \n",
       "2           196      True         1            1          196  \n",
       "3           211      True         1            1          211  \n",
       "4            89     False         1            1           89  "
      ]
     },
     "execution_count": 116,
     "metadata": {},
     "output_type": "execute_result"
    }
   ],
   "source": [
    "df_balanced.head(5)"
   ]
  },
  {
   "cell_type": "code",
   "execution_count": 157,
   "id": "37c2c927-ddf8-4322-a584-760f61f2eeab",
   "metadata": {},
   "outputs": [
    {
     "name": "stdin",
     "output_type": "stream",
     "text": [
      "Enter avg_freight:  100\n",
      "Enter avg_payment:  100\n",
      "Enter order_count:  100\n",
      "Enter tenure_days:  10\n"
     ]
    },
    {
     "name": "stdout",
     "output_type": "stream",
     "text": [
      "\n",
      "✅ Churn Prediction: False\n",
      "🔍 Probability [Not Churn, Churn]: [0.98 0.02]\n"
     ]
    }
   ],
   "source": [
    "# avg_freight = float(input(\"Enter avg_freight: \"))\n",
    "# avg_payment = float(input(\"Enter avg_payment: \"))\n",
    "# order_count = int(input(\"Enter order_count: \"))\n",
    "# tenure_days = int(input(\"Enter tenure_days: \"))\n",
    "\n",
    "# manual_input = pd.DataFrame([{\n",
    "#     'avg_freight': avg_freight,\n",
    "#     'avg_payment': avg_payment,\n",
    "#     'order_count': order_count,\n",
    "#     'tenure_days': tenure_days\n",
    "# }])\n",
    "\n",
    "# # 🧼 Step 5: Scale manual input using same scaler\n",
    "# manual_input_scaled = pd.DataFrame(scaler.transform(manual_input), columns=manual_input.columns)\n",
    "\n",
    "# # 📊 Step 6: Predict\n",
    "# prediction = rf_model.predict(manual_input_scaled)\n",
    "# proba = rf_model.predict_proba(manual_input_scaled)\n",
    "\n",
    "# print(\"\\n✅ Churn Prediction:\", prediction[0])\n",
    "# print(\"🔍 Probability [Not Churn, Churn]:\", proba[0])"
   ]
  },
  {
   "cell_type": "code",
   "execution_count": null,
   "id": "fa604004-a8c3-43e4-ba72-ccd66a0d0c81",
   "metadata": {},
   "outputs": [],
   "source": []
  },
  {
   "cell_type": "code",
   "execution_count": null,
   "id": "1051e603-757b-469f-af65-256ddfa2614e",
   "metadata": {},
   "outputs": [],
   "source": []
  }
 ],
 "metadata": {
  "kernelspec": {
   "display_name": "Python 3 (ipykernel)",
   "language": "python",
   "name": "python3"
  },
  "language_info": {
   "codemirror_mode": {
    "name": "ipython",
    "version": 3
   },
   "file_extension": ".py",
   "mimetype": "text/x-python",
   "name": "python",
   "nbconvert_exporter": "python",
   "pygments_lexer": "ipython3",
   "version": "3.13.5"
  }
 },
 "nbformat": 4,
 "nbformat_minor": 5
}
